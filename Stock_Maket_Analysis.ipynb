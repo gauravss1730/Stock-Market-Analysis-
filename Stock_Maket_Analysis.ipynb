{
  "nbformat": 4,
  "nbformat_minor": 0,
  "metadata": {
    "colab": {
      "name": "Random.ipynb",
      "provenance": [],
      "collapsed_sections": []
    },
    "kernelspec": {
      "name": "python3",
      "display_name": "Python 3"
    }
  },
  "cells": [
    {
      "cell_type": "markdown",
      "metadata": {
        "id": "3sMC_VPqFf5K"
      },
      "source": [
        "**Importing Libraries**"
      ]
    },
    {
      "cell_type": "code",
      "metadata": {
        "id": "NNIBEe5caMUb"
      },
      "source": [
        "!pip install pmdarima\n",
        "import pmdarima\n",
        "import pandas as pd\n",
        "import csv\n",
        "import itertools\n",
        "import numpy as np\n",
        "import seaborn as sns\n",
        "import matplotlib.pyplot as plt\n",
        "import statsmodels.api as sm\n",
        "from collections import Counter\n",
        "from sklearn.metrics import confusion_matrix\n",
        "from sklearn.metrics import accuracy_score\n",
        "import re  #For stemming\n",
        "import nltk  #For stop words (The, and, hi)\n",
        "nltk.download(\"stopwords\")\n",
        "from nltk.corpus import stopwords\n",
        "from nltk.stem import WordNetLemmatizer\n",
        "import warnings\n",
        "nltk.download('wordnet')\n",
        "nltk.download('punkt')\n",
        "#To display full output.\n",
        "pd.set_option('display.max_rows', None)\n",
        "pd.set_option('display.max_columns', None)\n",
        "pd.set_option('display.width', None)\n",
        "pd.set_option('display.max_colwidth', -1)\n",
        "warnings. filterwarnings('ignore')\n",
        "from google.colab import drive\n",
        "drive.mount('/content/drive/')"
      ],
      "execution_count": null,
      "outputs": []
    },
    {
      "cell_type": "markdown",
      "metadata": {
        "id": "ybtminNOFsSt"
      },
      "source": [
        "Reading dataset"
      ]
    },
    {
      "cell_type": "code",
      "metadata": {
        "id": "UygARSYYFqTq",
        "colab": {
          "base_uri": "https://localhost:8080/"
        },
        "outputId": "9cb3a687-4a22-4dfb-85af-d2a959833525"
      },
      "source": [
        "prices=pd.read_csv(\"/content/drive/MyDrive/Intern/Prices.csv\")\n",
        "headline=pd.read_csv(\"/content/drive/MyDrive/Intern/Headlines.csv\",quoting=csv.QUOTE_NONE,encoding='utf8')\n",
        "print(prices.shape,headline.shape)"
      ],
      "execution_count": null,
      "outputs": [
        {
          "output_type": "stream",
          "text": [
            "(122, 7) (3297172, 3)\n"
          ],
          "name": "stdout"
        }
      ]
    },
    {
      "cell_type": "code",
      "metadata": {
        "id": "1UFA80m-F5HU",
        "colab": {
          "base_uri": "https://localhost:8080/"
        },
        "outputId": "173eb326-b8bd-4534-9172-167b9bef2a26"
      },
      "source": [
        "prices.info()"
      ],
      "execution_count": null,
      "outputs": [
        {
          "output_type": "stream",
          "text": [
            "<class 'pandas.core.frame.DataFrame'>\n",
            "RangeIndex: 122 entries, 0 to 121\n",
            "Data columns (total 7 columns):\n",
            " #   Column     Non-Null Count  Dtype  \n",
            "---  ------     --------------  -----  \n",
            " 0   Date       122 non-null    object \n",
            " 1   Open       122 non-null    float64\n",
            " 2   High       122 non-null    float64\n",
            " 3   Low        122 non-null    float64\n",
            " 4   Close      122 non-null    float64\n",
            " 5   Adj Close  122 non-null    float64\n",
            " 6   Volume     122 non-null    int64  \n",
            "dtypes: float64(5), int64(1), object(1)\n",
            "memory usage: 6.8+ KB\n"
          ],
          "name": "stdout"
        }
      ]
    },
    {
      "cell_type": "code",
      "metadata": {
        "id": "Eg8ucxNZbMEq",
        "colab": {
          "base_uri": "https://localhost:8080/"
        },
        "outputId": "4adf48ab-8e5c-4902-e58a-476c1a2cf8c8"
      },
      "source": [
        "headline.info()"
      ],
      "execution_count": null,
      "outputs": [
        {
          "output_type": "stream",
          "text": [
            "<class 'pandas.core.frame.DataFrame'>\n",
            "RangeIndex: 3297172 entries, 0 to 3297171\n",
            "Data columns (total 3 columns):\n",
            " #   Column             Dtype \n",
            "---  ------             ----- \n",
            " 0   publish_date       int64 \n",
            " 1   headline_category  object\n",
            " 2   headline_text      object\n",
            "dtypes: int64(1), object(2)\n",
            "memory usage: 75.5+ MB\n"
          ],
          "name": "stdout"
        }
      ]
    },
    {
      "cell_type": "code",
      "metadata": {
        "id": "EX-8Ayckft3j",
        "colab": {
          "base_uri": "https://localhost:8080/",
          "height": 210
        },
        "outputId": "f0c8099f-2656-4550-f838-bd566e260a29"
      },
      "source": [
        "headline.tail().T"
      ],
      "execution_count": null,
      "outputs": [
        {
          "output_type": "execute_result",
          "data": {
            "text/html": [
              "<div>\n",
              "<style scoped>\n",
              "    .dataframe tbody tr th:only-of-type {\n",
              "        vertical-align: middle;\n",
              "    }\n",
              "\n",
              "    .dataframe tbody tr th {\n",
              "        vertical-align: top;\n",
              "    }\n",
              "\n",
              "    .dataframe thead th {\n",
              "        text-align: right;\n",
              "    }\n",
              "</style>\n",
              "<table border=\"1\" class=\"dataframe\">\n",
              "  <thead>\n",
              "    <tr style=\"text-align: right;\">\n",
              "      <th></th>\n",
              "      <th>3297167</th>\n",
              "      <th>3297168</th>\n",
              "      <th>3297169</th>\n",
              "      <th>3297170</th>\n",
              "      <th>3297171</th>\n",
              "    </tr>\n",
              "  </thead>\n",
              "  <tbody>\n",
              "    <tr>\n",
              "      <th>publish_date</th>\n",
              "      <td>20200630</td>\n",
              "      <td>20200630</td>\n",
              "      <td>20200630</td>\n",
              "      <td>20200630</td>\n",
              "      <td>20200630</td>\n",
              "    </tr>\n",
              "    <tr>\n",
              "      <th>headline_category</th>\n",
              "      <td>gadgets-news</td>\n",
              "      <td>entertainment.hindi.bollywood</td>\n",
              "      <td>entertainment.hindi.bollywood</td>\n",
              "      <td>entertainment.hindi.bollywood</td>\n",
              "      <td>entertainment.telugu.movies.news</td>\n",
              "    </tr>\n",
              "    <tr>\n",
              "      <th>headline_text</th>\n",
              "      <td>\"why tiktok removed 1 65 crore videos in india\"</td>\n",
              "      <td>\"apurva asrani calls alia bhatts mother soni razdans views on sushant singh rajputs demise untrue\"</td>\n",
              "      <td>\"kangana ranaut gets a doll version of herself her team shares manikarnika dolls are the new favourite for children\"</td>\n",
              "      <td>\"meezaan jaffrey reminisces his childhood days with his grandfather jagdeep with an adorable throwback picture\"</td>\n",
              "      <td>\"prabhas20 titled as radhe shyam prabhas and pooja hegde strike a romantic pose in the first look\"</td>\n",
              "    </tr>\n",
              "  </tbody>\n",
              "</table>\n",
              "</div>"
            ],
            "text/plain": [
              "                                                           3297167  \\\n",
              "publish_date       20200630                                          \n",
              "headline_category  gadgets-news                                      \n",
              "headline_text      \"why tiktok removed 1 65 crore videos in india\"   \n",
              "\n",
              "                                                                                                              3297168  \\\n",
              "publish_date       20200630                                                                                             \n",
              "headline_category  entertainment.hindi.bollywood                                                                        \n",
              "headline_text      \"apurva asrani calls alia bhatts mother soni razdans views on sushant singh rajputs demise untrue\"   \n",
              "\n",
              "                                                                                                                                3297169  \\\n",
              "publish_date       20200630                                                                                                               \n",
              "headline_category  entertainment.hindi.bollywood                                                                                          \n",
              "headline_text      \"kangana ranaut gets a doll version of herself her team shares manikarnika dolls are the new favourite for children\"   \n",
              "\n",
              "                                                                                                                           3297170  \\\n",
              "publish_date       20200630                                                                                                          \n",
              "headline_category  entertainment.hindi.bollywood                                                                                     \n",
              "headline_text      \"meezaan jaffrey reminisces his childhood days with his grandfather jagdeep with an adorable throwback picture\"   \n",
              "\n",
              "                                                                                                              3297171  \n",
              "publish_date       20200630                                                                                            \n",
              "headline_category  entertainment.telugu.movies.news                                                                    \n",
              "headline_text      \"prabhas20 titled as radhe shyam prabhas and pooja hegde strike a romantic pose in the first look\"  "
            ]
          },
          "metadata": {
            "tags": []
          },
          "execution_count": 6
        }
      ]
    },
    {
      "cell_type": "code",
      "metadata": {
        "id": "rL2pv404bTlS"
      },
      "source": [
        "headline['publish_date']=pd.to_datetime(headline['publish_date'], format='%Y%m%d') \n"
      ],
      "execution_count": null,
      "outputs": []
    },
    {
      "cell_type": "markdown",
      "metadata": {
        "id": "_rP7o9MYmDLy"
      },
      "source": [
        "#Keeping only relevant categories"
      ]
    },
    {
      "cell_type": "code",
      "metadata": {
        "id": "irrkdTnr0ath",
        "colab": {
          "base_uri": "https://localhost:8080/"
        },
        "outputId": "157fd23c-38b2-4807-e6bd-f5c10cbb838e"
      },
      "source": [
        "#Keeping only relevant categories\n",
        "text=headline[(headline['headline_category']=='business.personal-finance') |\n",
        "              (headline[\"headline_category\"]=='analysis') |\n",
        "              (headline[\"headline_category\"]=='business') |\n",
        "              (headline[\"headline_category\"]=='ambani') |\n",
        "              (headline[\"headline_category\"]=='pm-on-china-visit.news') |\n",
        "              (headline[\"headline_category\"]=='business.international-business') |\n",
        "              (headline[\"headline_category\"]=='business.india-business')]\n",
        "text=text.drop([\"headline_category\"], axis=1)\n",
        "text.shape\n"
      ],
      "execution_count": null,
      "outputs": [
        {
          "output_type": "execute_result",
          "data": {
            "text/plain": [
              "(153805, 2)"
            ]
          },
          "metadata": {
            "tags": []
          },
          "execution_count": 8
        }
      ]
    },
    {
      "cell_type": "markdown",
      "metadata": {
        "id": "Kwl3mflzmHJs"
      },
      "source": [
        "#Distributing in years"
      ]
    },
    {
      "cell_type": "code",
      "metadata": {
        "id": "ySkXXaSTgrL3"
      },
      "source": [
        "\n",
        "y1 = text[text['publish_date'].map(lambda x : x.year == 2001)]\n",
        "y2 = text[text['publish_date'].map(lambda x : x.year == 2002)]\n",
        "y3 = text[text['publish_date'].map(lambda x : x.year == 2003)]\n",
        "y4 = text[text['publish_date'].map(lambda x : x.year == 2004)] \n",
        "y5 = text[text['publish_date'].map(lambda x : x.year == 2005)] \n",
        "y6 = text[text['publish_date'].map(lambda x : x.year == 2006)]\n",
        "y7 = text[text['publish_date'].map(lambda x : x.year == 2007)]\n",
        "y8 = text[text['publish_date'].map(lambda x : x.year == 2008)]\n",
        "y9 = text[text['publish_date'].map(lambda x : x.year == 2009)]\n",
        "y10= text[text['publish_date'].map(lambda x : x.year == 2010)]"
      ],
      "execution_count": null,
      "outputs": []
    },
    {
      "cell_type": "markdown",
      "metadata": {
        "id": "nTrxrSf5mJ3K"
      },
      "source": [
        "#Appending daily news into monthly news."
      ]
    },
    {
      "cell_type": "code",
      "metadata": {
        "id": "-0V7g7Ei-IPC"
      },
      "source": [
        "jj=[]\n",
        "for i in y1,y2,y3,y4,y5,y6,y7,y8,y9,y10:\n",
        "    jj.append(i.groupby(i['publish_date'].map(lambda x: x.month))['headline_text'].apply(','.join).reset_index())"
      ],
      "execution_count": null,
      "outputs": []
    },
    {
      "cell_type": "code",
      "metadata": {
        "id": "7cwqwq1a-Js7",
        "colab": {
          "base_uri": "https://localhost:8080/"
        },
        "outputId": "af3a16f6-9041-4759-b670-9285948ce63b"
      },
      "source": [
        "li=[]\n",
        "for i in jj:\n",
        "    li.append(i)\n",
        "    all_dat = pd.concat(li ,axis=0, ignore_index = True)\n",
        "all_dat.shape"
      ],
      "execution_count": null,
      "outputs": [
        {
          "output_type": "execute_result",
          "data": {
            "text/plain": [
              "(117, 2)"
            ]
          },
          "metadata": {
            "tags": []
          },
          "execution_count": 11
        }
      ]
    },
    {
      "cell_type": "markdown",
      "metadata": {
        "id": "-ISc1H-cmRaV"
      },
      "source": [
        "**Removing price change of 2001 months of 2,3,4 and price change of 2011**"
      ]
    },
    {
      "cell_type": "code",
      "metadata": {
        "id": "TqKKBkmU4Vnx",
        "colab": {
          "base_uri": "https://localhost:8080/"
        },
        "outputId": "9be97d6c-82a9-40aa-825d-18b399a056a6"
      },
      "source": [
        "\n",
        "prices=prices[~(prices['Date'] == '2001-02-01')]\n",
        "prices=prices[~(prices['Date'] == '2001-03-01')]\n",
        "prices=prices[~(prices['Date'] == '2001-04-01')] \n",
        "prices=prices[~(prices['Date'] == '2011-01-01')]\n",
        "prices=prices[~(prices['Date'] == '2011-02-01')]\n",
        "\n",
        "prices[\"Change\"]=prices.Open-prices.Close\n",
        "prices.shape"
      ],
      "execution_count": null,
      "outputs": [
        {
          "output_type": "execute_result",
          "data": {
            "text/plain": [
              "(117, 8)"
            ]
          },
          "metadata": {
            "tags": []
          },
          "execution_count": 12
        }
      ]
    },
    {
      "cell_type": "code",
      "metadata": {
        "id": "O6gvpzikDOCi",
        "colab": {
          "base_uri": "https://localhost:8080/"
        },
        "outputId": "a865ff5e-7305-48d4-e779-d1950572102b"
      },
      "source": [
        "prices.isnull().sum()"
      ],
      "execution_count": null,
      "outputs": [
        {
          "output_type": "execute_result",
          "data": {
            "text/plain": [
              "Date         0\n",
              "Open         0\n",
              "High         0\n",
              "Low          0\n",
              "Close        0\n",
              "Adj Close    0\n",
              "Volume       0\n",
              "Change       0\n",
              "dtype: int64"
            ]
          },
          "metadata": {
            "tags": []
          },
          "execution_count": 13
        }
      ]
    },
    {
      "cell_type": "markdown",
      "metadata": {
        "id": "F1AidqylmdCm"
      },
      "source": [
        "#Creating our final DataFrame"
      ]
    },
    {
      "cell_type": "code",
      "metadata": {
        "id": "eFn6RvLF4bAs",
        "colab": {
          "base_uri": "https://localhost:8080/"
        },
        "outputId": "1087c0c1-e734-434e-800e-a99868a8b8d1"
      },
      "source": [
        "change=[]\n",
        "for i in prices[\"Change\"]:\n",
        "  if i > 0:\n",
        "    change.append(\"Positive\")\n",
        "  elif i == 0:\n",
        "    change.append(\"No change\")\n",
        "  else:\n",
        "    change.append(\"Negative\")\n",
        "prices = prices.reset_index(drop=True)\n",
        "all_dat = all_dat.reset_index(drop=True)\n",
        "all_dat.publish_date=prices.Date\n",
        "all_dat[\"Result\"]=pd.DataFrame(change)\n",
        "all_dat[\"Change\"]=prices.Change\n",
        "all_dat.isnull().sum()"
      ],
      "execution_count": null,
      "outputs": [
        {
          "output_type": "execute_result",
          "data": {
            "text/plain": [
              "publish_date     0\n",
              "headline_text    0\n",
              "Result           0\n",
              "Change           0\n",
              "dtype: int64"
            ]
          },
          "metadata": {
            "tags": []
          },
          "execution_count": 14
        }
      ]
    },
    {
      "cell_type": "markdown",
      "metadata": {
        "id": "xbGMoC3qmhR6"
      },
      "source": [
        "#Dropping dataFrames"
      ]
    },
    {
      "cell_type": "code",
      "metadata": {
        "id": "r5q4SeSaDGsC"
      },
      "source": [
        "del jj,li,text,headline,i,y1,y2,y3,y4,y5,y6,y7,y8,y9,y10,change,prices"
      ],
      "execution_count": null,
      "outputs": []
    },
    {
      "cell_type": "code",
      "metadata": {
        "id": "0x3NLVLnxcQT",
        "colab": {
          "base_uri": "https://localhost:8080/"
        },
        "outputId": "1279cc30-31a2-41c0-e892-725cc66f4f42"
      },
      "source": [
        "all_dat.head()\n",
        "#Removing 1st row \n",
        "all_dat=all_dat.iloc[1:]\n",
        "all_dat = all_dat.reset_index(drop=True)\n",
        "all_dat.shape"
      ],
      "execution_count": null,
      "outputs": [
        {
          "output_type": "execute_result",
          "data": {
            "text/plain": [
              "(116, 4)"
            ]
          },
          "metadata": {
            "tags": []
          },
          "execution_count": 16
        }
      ]
    },
    {
      "cell_type": "code",
      "metadata": {
        "colab": {
          "base_uri": "https://localhost:8080/",
          "height": 297
        },
        "id": "HZZwYWipZvBW",
        "outputId": "062c9145-de9f-4690-9c7f-125267e774a9"
      },
      "source": [
        "sns.countplot(x ='Result', data = all_dat)"
      ],
      "execution_count": null,
      "outputs": [
        {
          "output_type": "execute_result",
          "data": {
            "text/plain": [
              "<matplotlib.axes._subplots.AxesSubplot at 0x7ff991e71e48>"
            ]
          },
          "metadata": {
            "tags": []
          },
          "execution_count": 17
        },
        {
          "output_type": "display_data",
          "data": {
            "image/png": "[encoded data removed]",
            "text/plain": [
              "<Figure size 432x288 with 1 Axes>"
            ]
          },
          "metadata": {
            "tags": [],
            "needs_background": "light"
          }
        }
      ]
    },
    {
      "cell_type": "markdown",
      "metadata": {
        "id": "xedJzX9xaBjf"
      },
      "source": [
        "#Text Cleaning"
      ]
    },
    {
      "cell_type": "code",
      "metadata": {
        "id": "faLHPYzN5Ifc"
      },
      "source": [
        "corpus = []\n",
        "for i in range(0, len(all_dat)):\n",
        "  review = re.sub('[^a-zA-Z]', ' ', all_dat[\"headline_text\"][i]) #Removing Punctualtion\n",
        "  review = re.sub(r'\\s+',' ',review) ##To remove extra spaces\n",
        "  review = review.lower()  #Changing it to lower case\n",
        "  review = re.sub(r'\\b\\w{1,3}\\b', '', review)\n",
        "  review = review.split()  #Splitting word\n",
        "  wl = WordNetLemmatizer()  #Lemmatizing (Loving/Loved->Love)\n",
        "  all_stopwords = stopwords.words('english') #Removing (Then, they, I, has)\n",
        "  review = [wl.lemmatize(word) for word in review if not word in set(all_stopwords)]\n",
        "  review = ' '.join(review)\n",
        "  corpus.append(review)"
      ],
      "execution_count": null,
      "outputs": []
    },
    {
      "cell_type": "markdown",
      "metadata": {
        "id": "3xezSsOs5otr"
      },
      "source": [
        "**Making NLP model**"
      ]
    },
    {
      "cell_type": "code",
      "metadata": {
        "id": "8QlQCp5C5nzg",
        "colab": {
          "base_uri": "https://localhost:8080/"
        },
        "outputId": "f2746593-6dc0-4cb3-c541-93c309a0c157"
      },
      "source": [
        "#Making sparse MATRIX\n",
        "from sklearn.feature_extraction.text import TfidfVectorizer\n",
        "CV=TfidfVectorizer(max_features=300)#Taking most frequent words, removing those who appeared least\n",
        "x=CV.fit_transform(corpus).toarray()\n",
        "y=all_dat['Result']\n",
        "x.shape\n",
        "CV.vocabulary_\n"
      ],
      "execution_count": null,
      "outputs": [
        {
          "output_type": "execute_result",
          "data": {
            "text/plain": [
              "{'acquire': 0,\n",
              " 'acquires': 1,\n",
              " 'ahead': 2,\n",
              " 'airline': 3,\n",
              " 'airport': 4,\n",
              " 'ambani': 5,\n",
              " 'among': 6,\n",
              " 'anil': 7,\n",
              " 'april': 8,\n",
              " 'asia': 9,\n",
              " 'asian': 10,\n",
              " 'asks': 11,\n",
              " 'asset': 12,\n",
              " 'auto': 13,\n",
              " 'award': 14,\n",
              " 'back': 15,\n",
              " 'bag': 16,\n",
              " 'bajaj': 17,\n",
              " 'bank': 18,\n",
              " 'banking': 19,\n",
              " 'bharti': 20,\n",
              " 'bhel': 21,\n",
              " 'bid': 22,\n",
              " 'bike': 23,\n",
              " 'bill': 24,\n",
              " 'billion': 25,\n",
              " 'birla': 26,\n",
              " 'block': 27,\n",
              " 'board': 28,\n",
              " 'bond': 29,\n",
              " 'boost': 30,\n",
              " 'brand': 31,\n",
              " 'bsnl': 32,\n",
              " 'budget': 33,\n",
              " 'business': 34,\n",
              " 'buy': 35,\n",
              " 'buying': 36,\n",
              " 'call': 37,\n",
              " 'capital': 38,\n",
              " 'car': 39,\n",
              " 'card': 40,\n",
              " 'case': 41,\n",
              " 'cent': 42,\n",
              " 'centre': 43,\n",
              " 'change': 44,\n",
              " 'charge': 45,\n",
              " 'chief': 46,\n",
              " 'china': 47,\n",
              " 'chinese': 48,\n",
              " 'clear': 49,\n",
              " 'close': 50,\n",
              " 'coal': 51,\n",
              " 'come': 52,\n",
              " 'company': 53,\n",
              " 'cost': 54,\n",
              " 'court': 55,\n",
              " 'credit': 56,\n",
              " 'crisis': 57,\n",
              " 'crore': 58,\n",
              " 'cross': 59,\n",
              " 'crude': 60,\n",
              " 'cue': 61,\n",
              " 'cut': 62,\n",
              " 'deal': 63,\n",
              " 'debt': 64,\n",
              " 'decline': 65,\n",
              " 'delhi': 66,\n",
              " 'demand': 67,\n",
              " 'deposit': 68,\n",
              " 'diesel': 69,\n",
              " 'dip': 70,\n",
              " 'dividend': 71,\n",
              " 'dollar': 72,\n",
              " 'double': 73,\n",
              " 'drive': 74,\n",
              " 'drop': 75,\n",
              " 'drug': 76,\n",
              " 'duty': 77,\n",
              " 'early': 78,\n",
              " 'economic': 79,\n",
              " 'economy': 80,\n",
              " 'employee': 81,\n",
              " 'end': 82,\n",
              " 'enter': 83,\n",
              " 'equity': 84,\n",
              " 'essar': 85,\n",
              " 'exit': 86,\n",
              " 'expansion': 87,\n",
              " 'export': 88,\n",
              " 'eye': 89,\n",
              " 'face': 90,\n",
              " 'fall': 91,\n",
              " 'fare': 92,\n",
              " 'fiis': 93,\n",
              " 'finance': 94,\n",
              " 'financial': 95,\n",
              " 'firm': 96,\n",
              " 'first': 97,\n",
              " 'fiscal': 98,\n",
              " 'flat': 99,\n",
              " 'flight': 100,\n",
              " 'focus': 101,\n",
              " 'food': 102,\n",
              " 'foray': 103,\n",
              " 'foreign': 104,\n",
              " 'forex': 105,\n",
              " 'free': 106,\n",
              " 'fresh': 107,\n",
              " 'fuel': 108,\n",
              " 'fund': 109,\n",
              " 'future': 110,\n",
              " 'gail': 111,\n",
              " 'gain': 112,\n",
              " 'get': 113,\n",
              " 'give': 114,\n",
              " 'global': 115,\n",
              " 'go': 116,\n",
              " 'gold': 117,\n",
              " 'good': 118,\n",
              " 'govt': 119,\n",
              " 'group': 120,\n",
              " 'grow': 121,\n",
              " 'growth': 122,\n",
              " 'hdfc': 123,\n",
              " 'help': 124,\n",
              " 'high': 125,\n",
              " 'higher': 126,\n",
              " 'hike': 127,\n",
              " 'hit': 128,\n",
              " 'hold': 129,\n",
              " 'home': 130,\n",
              " 'honda': 131,\n",
              " 'hotel': 132,\n",
              " 'hpcl': 133,\n",
              " 'hyundai': 134,\n",
              " 'icici': 135,\n",
              " 'import': 136,\n",
              " 'increase': 137,\n",
              " 'index': 138,\n",
              " 'india': 139,\n",
              " 'indian': 140,\n",
              " 'industry': 141,\n",
              " 'inflation': 142,\n",
              " 'infosys': 143,\n",
              " 'insurance': 144,\n",
              " 'interest': 145,\n",
              " 'invest': 146,\n",
              " 'investment': 147,\n",
              " 'investor': 148,\n",
              " 'issue': 149,\n",
              " 'job': 150,\n",
              " 'join': 151,\n",
              " 'jump': 152,\n",
              " 'lakh': 153,\n",
              " 'launch': 154,\n",
              " 'lead': 155,\n",
              " 'level': 156,\n",
              " 'licence': 157,\n",
              " 'life': 158,\n",
              " 'likely': 159,\n",
              " 'list': 160,\n",
              " 'loan': 161,\n",
              " 'look': 162,\n",
              " 'lose': 163,\n",
              " 'loss': 164,\n",
              " 'lower': 165,\n",
              " 'mahindra': 166,\n",
              " 'major': 167,\n",
              " 'make': 168,\n",
              " 'mark': 169,\n",
              " 'market': 170,\n",
              " 'maruti': 171,\n",
              " 'meet': 172,\n",
              " 'merger': 173,\n",
              " 'million': 174,\n",
              " 'ministry': 175,\n",
              " 'mittal': 176,\n",
              " 'mobile': 177,\n",
              " 'money': 178,\n",
              " 'month': 179,\n",
              " 'motor': 180,\n",
              " 'move': 181,\n",
              " 'mtnl': 182,\n",
              " 'mukesh': 183,\n",
              " 'mull': 184,\n",
              " 'mumbai': 185,\n",
              " 'must': 186,\n",
              " 'need': 187,\n",
              " 'next': 188,\n",
              " 'norm': 189,\n",
              " 'ntpc': 190,\n",
              " 'offer': 191,\n",
              " 'ongc': 192,\n",
              " 'open': 193,\n",
              " 'opening': 194,\n",
              " 'order': 195,\n",
              " 'pact': 196,\n",
              " 'paisa': 197,\n",
              " 'panel': 198,\n",
              " 'petrol': 199,\n",
              " 'pharma': 200,\n",
              " 'pick': 201,\n",
              " 'plan': 202,\n",
              " 'plant': 203,\n",
              " 'point': 204,\n",
              " 'policy': 205,\n",
              " 'post': 206,\n",
              " 'power': 207,\n",
              " 'price': 208,\n",
              " 'probe': 209,\n",
              " 'product': 210,\n",
              " 'production': 211,\n",
              " 'profit': 212,\n",
              " 'project': 213,\n",
              " 'proposal': 214,\n",
              " 'psus': 215,\n",
              " 'public': 216,\n",
              " 'pull': 217,\n",
              " 'push': 218,\n",
              " 'race': 219,\n",
              " 'raise': 220,\n",
              " 'rally': 221,\n",
              " 'ranbaxy': 222,\n",
              " 'rate': 223,\n",
              " 'ready': 224,\n",
              " 'realty': 225,\n",
              " 'record': 226,\n",
              " 'reform': 227,\n",
              " 'reliance': 228,\n",
              " 'report': 229,\n",
              " 'reserve': 230,\n",
              " 'retail': 231,\n",
              " 'return': 232,\n",
              " 'revenue': 233,\n",
              " 'review': 234,\n",
              " 'right': 235,\n",
              " 'rise': 236,\n",
              " 'roll': 237,\n",
              " 'rule': 238,\n",
              " 'rupee': 239,\n",
              " 'sahara': 240,\n",
              " 'sale': 241,\n",
              " 'satyam': 242,\n",
              " 'say': 243,\n",
              " 'scheme': 244,\n",
              " 'sebi': 245,\n",
              " 'sector': 246,\n",
              " 'see': 247,\n",
              " 'seek': 248,\n",
              " 'sell': 249,\n",
              " 'sensex': 250,\n",
              " 'service': 251,\n",
              " 'set': 252,\n",
              " 'share': 253,\n",
              " 'show': 254,\n",
              " 'sign': 255,\n",
              " 'slip': 256,\n",
              " 'small': 257,\n",
              " 'software': 258,\n",
              " 'soon': 259,\n",
              " 'sop': 260,\n",
              " 'spectrum': 261,\n",
              " 'staff': 262,\n",
              " 'stake': 263,\n",
              " 'start': 264,\n",
              " 'state': 265,\n",
              " 'stay': 266,\n",
              " 'steel': 267,\n",
              " 'step': 268,\n",
              " 'still': 269,\n",
              " 'stock': 270,\n",
              " 'strike': 271,\n",
              " 'surge': 272,\n",
              " 'survey': 273,\n",
              " 'take': 274,\n",
              " 'talk': 275,\n",
              " 'target': 276,\n",
              " 'tariff': 277,\n",
              " 'tata': 278,\n",
              " 'tatas': 279,\n",
              " 'tech': 280,\n",
              " 'telco': 281,\n",
              " 'telecom': 282,\n",
              " 'term': 283,\n",
              " 'tie': 284,\n",
              " 'time': 285,\n",
              " 'touch': 286,\n",
              " 'trade': 287,\n",
              " 'trading': 288,\n",
              " 'trai': 289,\n",
              " 'turn': 290,\n",
              " 'unit': 291,\n",
              " 'vodafone': 292,\n",
              " 'vsnl': 293,\n",
              " 'want': 294,\n",
              " 'weak': 295,\n",
              " 'week': 296,\n",
              " 'wipro': 297,\n",
              " 'world': 298,\n",
              " 'year': 299}"
            ]
          },
          "metadata": {
            "tags": []
          },
          "execution_count": 19
        }
      ]
    },
    {
      "cell_type": "markdown",
      "metadata": {
        "id": "2-Xc0wDVH82n"
      },
      "source": [
        "**Applying Support Vector Classifier**"
      ]
    },
    {
      "cell_type": "code",
      "metadata": {
        "id": "XRsdBjGQH4kW"
      },
      "source": [
        "# Splitting the dataset into the Training set and Test set\n",
        "from sklearn.model_selection import train_test_split\n",
        "x_train, x_test, y_train, y_test = train_test_split(x, y, test_size = 0.9)\n"
      ],
      "execution_count": null,
      "outputs": []
    },
    {
      "cell_type": "markdown",
      "metadata": {
        "id": "ev7Tfb9Cm3gL"
      },
      "source": [
        "**Defining the grid of hyperparameters to search**"
      ]
    },
    {
      "cell_type": "code",
      "metadata": {
        "id": "8ITbCgx-mcpL",
        "colab": {
          "base_uri": "https://localhost:8080/"
        },
        "outputId": "71908343-5cb2-45a9-8116-3ac75a3fa236"
      },
      "source": [
        "param_grid = [    \n",
        "    {'kernel' : ['linear', 'rbf', 'poly', 'sigmoid'],\n",
        "    'C': [0.1, 1, 10, 100, 1000],\n",
        "    'gamma': [1, 0.1, 0.01, 0.001, 0.0001],\n",
        "    }\n",
        "]\n",
        "# Training the SVM model on the Training set\n",
        "from sklearn.svm import SVC\n",
        "classifier = SVC()\n",
        "from sklearn.model_selection import GridSearchCV\n",
        "random_cv = GridSearchCV(estimator=classifier,\n",
        "            param_grid=param_grid,\n",
        "            cv=3,\n",
        "            n_jobs = 1,\n",
        "            verbose= 4 , \n",
        "            return_train_score = True)\n",
        "best=random_cv.fit(x_train,y_train)\n",
        "best.best_params_"
      ],
      "execution_count": null,
      "outputs": [
        {
          "output_type": "stream",
          "text": [
            "Fitting 3 folds for each of 100 candidates, totalling 300 fits\n",
            "[CV] C=0.1, gamma=1, kernel=linear ...................................\n",
            "[CV]  C=0.1, gamma=1, kernel=linear, score=(train=0.571, test=0.500), total=   0.0s\n",
            "[CV] C=0.1, gamma=1, kernel=linear ...................................\n",
            "[CV]  C=0.1, gamma=1, kernel=linear, score=(train=0.571, test=0.500), total=   0.0s\n",
            "[CV] C=0.1, gamma=1, kernel=linear ...................................\n",
            "[CV]  C=0.1, gamma=1, kernel=linear, score=(train=1.000, test=0.000), total=   0.0s\n",
            "[CV] C=0.1, gamma=1, kernel=rbf ......................................\n",
            "[CV]  C=0.1, gamma=1, kernel=rbf, score=(train=0.571, test=0.500), total=   0.0s\n",
            "[CV] C=0.1, gamma=1, kernel=rbf ......................................\n",
            "[CV]  C=0.1, gamma=1, kernel=rbf, score=(train=0.571, test=0.500), total=   0.0s\n",
            "[CV] C=0.1, gamma=1, kernel=rbf ......................................\n",
            "[CV]  C=0.1, gamma=1, kernel=rbf, score=(train=1.000, test=0.000), total=   0.0s\n",
            "[CV] C=0.1, gamma=1, kernel=poly .....................................\n",
            "[CV]  C=0.1, gamma=1, kernel=poly, score=(train=0.571, test=0.500), total=   0.0s\n",
            "[CV] C=0.1, gamma=1, kernel=poly .....................................\n",
            "[CV]  C=0.1, gamma=1, kernel=poly, score=(train=0.571, test=0.500), total=   0.0s\n",
            "[CV] C=0.1, gamma=1, kernel=poly .....................................\n",
            "[CV]  C=0.1, gamma=1, kernel=poly, score=(train=1.000, test=0.000), total=   0.0s\n",
            "[CV] C=0.1, gamma=1, kernel=sigmoid ..................................\n",
            "[CV]  C=0.1, gamma=1, kernel=sigmoid, score=(train=0.571, test=0.500), total=   0.0s\n",
            "[CV] C=0.1, gamma=1, kernel=sigmoid ..................................\n",
            "[CV]  C=0.1, gamma=1, kernel=sigmoid, score=(train=0.571, test=0.500), total=   0.0s\n",
            "[CV] C=0.1, gamma=1, kernel=sigmoid ..................................\n",
            "[CV]  C=0.1, gamma=1, kernel=sigmoid, score=(train=1.000, test=0.000), total=   0.0s\n",
            "[CV] C=0.1, gamma=0.1, kernel=linear .................................\n",
            "[CV]  C=0.1, gamma=0.1, kernel=linear, score=(train=0.571, test=0.500), total=   0.0s\n",
            "[CV] C=0.1, gamma=0.1, kernel=linear .................................\n",
            "[CV]  C=0.1, gamma=0.1, kernel=linear, score=(train=0.571, test=0.500), total=   0.0s\n",
            "[CV] C=0.1, gamma=0.1, kernel=linear .................................\n",
            "[CV]  C=0.1, gamma=0.1, kernel=linear, score=(train=1.000, test=0.000), total=   0.0s\n",
            "[CV] C=0.1, gamma=0.1, kernel=rbf ....................................\n",
            "[CV]  C=0.1, gamma=0.1, kernel=rbf, score=(train=0.571, test=0.500), total=   0.0s\n",
            "[CV] C=0.1, gamma=0.1, kernel=rbf ....................................\n",
            "[CV]  C=0.1, gamma=0.1, kernel=rbf, score=(train=0.571, test=0.500), total=   0.0s\n",
            "[CV] C=0.1, gamma=0.1, kernel=rbf ....................................\n",
            "[CV]  C=0.1, gamma=0.1, kernel=rbf, score=(train=1.000, test=0.000), total=   0.0s\n",
            "[CV] C=0.1, gamma=0.1, kernel=poly ...................................\n",
            "[CV]  C=0.1, gamma=0.1, kernel=poly, score=(train=0.571, test=0.500), total=   0.0s\n",
            "[CV] C=0.1, gamma=0.1, kernel=poly ...................................\n",
            "[CV]  C=0.1, gamma=0.1, kernel=poly, score=(train=0.571, test=0.500), total=   0.0s\n",
            "[CV] C=0.1, gamma=0.1, kernel=poly ...................................\n",
            "[CV]  C=0.1, gamma=0.1, kernel=poly, score=(train=1.000, test=0.000), total=   0.0s\n",
            "[CV] C=0.1, gamma=0.1, kernel=sigmoid ................................\n",
            "[CV]  C=0.1, gamma=0.1, kernel=sigmoid, score=(train=0.571, test=0.500), total=   0.0s\n",
            "[CV] C=0.1, gamma=0.1, kernel=sigmoid ................................\n",
            "[CV]  C=0.1, gamma=0.1, kernel=sigmoid, score=(train=0.571, test=0.500), total=   0.0s\n",
            "[CV] C=0.1, gamma=0.1, kernel=sigmoid ................................\n",
            "[CV]  C=0.1, gamma=0.1, kernel=sigmoid, score=(train=1.000, test=0.000), total=   0.0s\n",
            "[CV] C=0.1, gamma=0.01, kernel=linear ................................\n",
            "[CV]  C=0.1, gamma=0.01, kernel=linear, score=(train=0.571, test=0.500), total=   0.0s\n",
            "[CV] C=0.1, gamma=0.01, kernel=linear ................................\n",
            "[CV]  C=0.1, gamma=0.01, kernel=linear, score=(train=0.571, test=0.500), total=   0.0s\n",
            "[CV] C=0.1, gamma=0.01, kernel=linear ................................\n",
            "[CV]  C=0.1, gamma=0.01, kernel=linear, score=(train=1.000, test=0.000), total=   0.0s\n",
            "[CV] C=0.1, gamma=0.01, kernel=rbf ...................................\n",
            "[CV]  C=0.1, gamma=0.01, kernel=rbf, score=(train=0.571, test=0.500), total=   0.0s\n",
            "[CV] C=0.1, gamma=0.01, kernel=rbf ...................................\n",
            "[CV]  C=0.1, gamma=0.01, kernel=rbf, score=(train=0.571, test=0.500), total=   0.0s\n",
            "[CV] C=0.1, gamma=0.01, kernel=rbf ...................................\n",
            "[CV]  C=0.1, gamma=0.01, kernel=rbf, score=(train=1.000, test=0.000), total=   0.0s\n",
            "[CV] C=0.1, gamma=0.01, kernel=poly ..................................\n",
            "[CV]  C=0.1, gamma=0.01, kernel=poly, score=(train=0.571, test=0.500), total=   0.0s\n",
            "[CV] C=0.1, gamma=0.01, kernel=poly ..................................\n",
            "[CV]  C=0.1, gamma=0.01, kernel=poly, score=(train=0.571, test=0.500), total=   0.0s\n",
            "[CV] C=0.1, gamma=0.01, kernel=poly ..................................\n",
            "[CV]  C=0.1, gamma=0.01, kernel=poly, score=(train=1.000, test=0.000), total=   0.0s\n",
            "[CV] C=0.1, gamma=0.01, kernel=sigmoid ...............................\n",
            "[CV]  C=0.1, gamma=0.01, kernel=sigmoid, score=(train=0.571, test=0.500), total=   0.0s\n",
            "[CV] C=0.1, gamma=0.01, kernel=sigmoid ...............................\n",
            "[CV]  C=0.1, gamma=0.01, kernel=sigmoid, score=(train=0.571, test=0.500), total=   0.0s\n",
            "[CV] C=0.1, gamma=0.01, kernel=sigmoid ...............................\n",
            "[CV]  C=0.1, gamma=0.01, kernel=sigmoid, score=(train=1.000, test=0.000), total=   0.0s\n",
            "[CV] C=0.1, gamma=0.001, kernel=linear ...............................\n",
            "[CV]  C=0.1, gamma=0.001, kernel=linear, score=(train=0.571, test=0.500), total=   0.0s\n",
            "[CV] C=0.1, gamma=0.001, kernel=linear ...............................\n",
            "[CV]  C=0.1, gamma=0.001, kernel=linear, score=(train=0.571, test=0.500), total=   0.0s\n",
            "[CV] C=0.1, gamma=0.001, kernel=linear ...............................\n",
            "[CV]  C=0.1, gamma=0.001, kernel=linear, score=(train=1.000, test=0.000), total=   0.0s\n",
            "[CV] C=0.1, gamma=0.001, kernel=rbf ..................................\n",
            "[CV]  C=0.1, gamma=0.001, kernel=rbf, score=(train=0.571, test=0.500), total=   0.0s\n",
            "[CV] C=0.1, gamma=0.001, kernel=rbf ..................................\n",
            "[CV]  C=0.1, gamma=0.001, kernel=rbf, score=(train=0.571, test=0.500), total=   0.0s\n",
            "[CV] C=0.1, gamma=0.001, kernel=rbf ..................................\n",
            "[CV]  C=0.1, gamma=0.001, kernel=rbf, score=(train=1.000, test=0.000), total=   0.0s\n",
            "[CV] C=0.1, gamma=0.001, kernel=poly .................................\n",
            "[CV]  C=0.1, gamma=0.001, kernel=poly, score=(train=0.571, test=0.500), total=   0.0s\n",
            "[CV] C=0.1, gamma=0.001, kernel=poly .................................\n",
            "[CV]  C=0.1, gamma=0.001, kernel=poly, score=(train=0.571, test=0.500), total=   0.0s\n",
            "[CV] C=0.1, gamma=0.001, kernel=poly .................................\n",
            "[CV]  C=0.1, gamma=0.001, kernel=poly, score=(train=1.000, test=0.000), total=   0.0s\n",
            "[CV] C=0.1, gamma=0.001, kernel=sigmoid ..............................\n",
            "[CV]  C=0.1, gamma=0.001, kernel=sigmoid, score=(train=0.571, test=0.500), total=   0.0s\n",
            "[CV] C=0.1, gamma=0.001, kernel=sigmoid ..............................\n",
            "[CV]  C=0.1, gamma=0.001, kernel=sigmoid, score=(train=0.571, test=0.500), total=   0.0s\n",
            "[CV] C=0.1, gamma=0.001, kernel=sigmoid ..............................\n",
            "[CV]  C=0.1, gamma=0.001, kernel=sigmoid, score=(train=1.000, test=0.000), total=   0.0s\n",
            "[CV] C=0.1, gamma=0.0001, kernel=linear ..............................\n",
            "[CV]  C=0.1, gamma=0.0001, kernel=linear, score=(train=0.571, test=0.500), total=   0.0s\n",
            "[CV] C=0.1, gamma=0.0001, kernel=linear ..............................\n",
            "[CV]  C=0.1, gamma=0.0001, kernel=linear, score=(train=0.571, test=0.500), total=   0.0s\n",
            "[CV] C=0.1, gamma=0.0001, kernel=linear ..............................\n",
            "[CV]  C=0.1, gamma=0.0001, kernel=linear, score=(train=1.000, test=0.000), total=   0.0s\n",
            "[CV] C=0.1, gamma=0.0001, kernel=rbf .................................\n",
            "[CV]  C=0.1, gamma=0.0001, kernel=rbf, score=(train=0.571, test=0.500), total=   0.0s\n",
            "[CV] C=0.1, gamma=0.0001, kernel=rbf .................................\n",
            "[CV]  C=0.1, gamma=0.0001, kernel=rbf, score=(train=0.571, test=0.500), total=   0.0s\n",
            "[CV] C=0.1, gamma=0.0001, kernel=rbf .................................\n",
            "[CV]  C=0.1, gamma=0.0001, kernel=rbf, score=(train=1.000, test=0.000), total=   0.0s\n",
            "[CV] C=0.1, gamma=0.0001, kernel=poly ................................\n",
            "[CV]  C=0.1, gamma=0.0001, kernel=poly, score=(train=0.571, test=0.500), total=   0.0s\n",
            "[CV] C=0.1, gamma=0.0001, kernel=poly ................................\n",
            "[CV]  C=0.1, gamma=0.0001, kernel=poly, score=(train=0.571, test=0.500), total=   0.0s\n",
            "[CV] C=0.1, gamma=0.0001, kernel=poly ................................\n",
            "[CV]  C=0.1, gamma=0.0001, kernel=poly, score=(train=1.000, test=0.000), total=   0.0s\n",
            "[CV] C=0.1, gamma=0.0001, kernel=sigmoid .............................\n",
            "[CV]  C=0.1, gamma=0.0001, kernel=sigmoid, score=(train=0.571, test=0.500), total=   0.0s\n",
            "[CV] C=0.1, gamma=0.0001, kernel=sigmoid .............................\n",
            "[CV]  C=0.1, gamma=0.0001, kernel=sigmoid, score=(train=0.571, test=0.500), total=   0.0s\n",
            "[CV] C=0.1, gamma=0.0001, kernel=sigmoid .............................\n",
            "[CV]  C=0.1, gamma=0.0001, kernel=sigmoid, score=(train=1.000, test=0.000), total=   0.0s\n",
            "[CV] C=1, gamma=1, kernel=linear .....................................\n",
            "[CV]  C=1, gamma=1, kernel=linear, score=(train=0.571, test=0.500), total=   0.0s\n",
            "[CV] C=1, gamma=1, kernel=linear .....................................\n",
            "[CV]  C=1, gamma=1, kernel=linear, score=(train=0.571, test=0.500), total=   0.0s\n",
            "[CV] C=1, gamma=1, kernel=linear .....................................\n",
            "[CV]  C=1, gamma=1, kernel=linear, score=(train=1.000, test=0.000), total=   0.0s\n",
            "[CV] C=1, gamma=1, kernel=rbf ........................................\n",
            "[CV]  C=1, gamma=1, kernel=rbf, score=(train=0.571, test=0.500), total=   0.0s\n",
            "[CV] C=1, gamma=1, kernel=rbf ........................................\n",
            "[CV]  C=1, gamma=1, kernel=rbf, score=(train=0.571, test=0.500), total=   0.0s\n",
            "[CV] C=1, gamma=1, kernel=rbf ........................................\n",
            "[CV]  C=1, gamma=1, kernel=rbf, score=(train=1.000, test=0.000), total=   0.0s\n",
            "[CV] C=1, gamma=1, kernel=poly .......................................\n",
            "[CV]  C=1, gamma=1, kernel=poly, score=(train=0.857, test=0.500), total=   0.0s\n",
            "[CV] C=1, gamma=1, kernel=poly .......................................\n"
          ],
          "name": "stdout"
        },
        {
          "output_type": "stream",
          "text": [
            "[Parallel(n_jobs=1)]: Using backend SequentialBackend with 1 concurrent workers.\n",
            "[Parallel(n_jobs=1)]: Done   1 out of   1 | elapsed:    0.0s remaining:    0.0s\n",
            "[Parallel(n_jobs=1)]: Done   2 out of   2 | elapsed:    0.0s remaining:    0.0s\n",
            "[Parallel(n_jobs=1)]: Done   3 out of   3 | elapsed:    0.0s remaining:    0.0s\n"
          ],
          "name": "stderr"
        },
        {
          "output_type": "stream",
          "text": [
            "[CV]  C=1, gamma=1, kernel=poly, score=(train=0.857, test=0.500), total=   0.0s\n",
            "[CV] C=1, gamma=1, kernel=poly .......................................\n",
            "[CV]  C=1, gamma=1, kernel=poly, score=(train=1.000, test=0.000), total=   0.0s\n",
            "[CV] C=1, gamma=1, kernel=sigmoid ....................................\n",
            "[CV]  C=1, gamma=1, kernel=sigmoid, score=(train=0.571, test=0.500), total=   0.0s\n",
            "[CV] C=1, gamma=1, kernel=sigmoid ....................................\n",
            "[CV]  C=1, gamma=1, kernel=sigmoid, score=(train=0.571, test=0.500), total=   0.0s\n",
            "[CV] C=1, gamma=1, kernel=sigmoid ....................................\n",
            "[CV]  C=1, gamma=1, kernel=sigmoid, score=(train=1.000, test=0.000), total=   0.0s\n",
            "[CV] C=1, gamma=0.1, kernel=linear ...................................\n",
            "[CV]  C=1, gamma=0.1, kernel=linear, score=(train=0.571, test=0.500), total=   0.0s\n",
            "[CV] C=1, gamma=0.1, kernel=linear ...................................\n",
            "[CV]  C=1, gamma=0.1, kernel=linear, score=(train=0.571, test=0.500), total=   0.0s\n",
            "[CV] C=1, gamma=0.1, kernel=linear ...................................\n",
            "[CV]  C=1, gamma=0.1, kernel=linear, score=(train=1.000, test=0.000), total=   0.0s\n",
            "[CV] C=1, gamma=0.1, kernel=rbf ......................................\n",
            "[CV]  C=1, gamma=0.1, kernel=rbf, score=(train=0.571, test=0.500), total=   0.0s\n",
            "[CV] C=1, gamma=0.1, kernel=rbf ......................................\n",
            "[CV]  C=1, gamma=0.1, kernel=rbf, score=(train=0.571, test=0.500), total=   0.0s\n",
            "[CV] C=1, gamma=0.1, kernel=rbf ......................................\n",
            "[CV]  C=1, gamma=0.1, kernel=rbf, score=(train=1.000, test=0.000), total=   0.0s\n",
            "[CV] C=1, gamma=0.1, kernel=poly .....................................\n",
            "[CV]  C=1, gamma=0.1, kernel=poly, score=(train=0.571, test=0.500), total=   0.0s\n",
            "[CV] C=1, gamma=0.1, kernel=poly .....................................\n",
            "[CV]  C=1, gamma=0.1, kernel=poly, score=(train=0.571, test=0.500), total=   0.0s\n",
            "[CV] C=1, gamma=0.1, kernel=poly .....................................\n",
            "[CV]  C=1, gamma=0.1, kernel=poly, score=(train=1.000, test=0.000), total=   0.0s\n",
            "[CV] C=1, gamma=0.1, kernel=sigmoid ..................................\n",
            "[CV]  C=1, gamma=0.1, kernel=sigmoid, score=(train=0.571, test=0.500), total=   0.0s\n",
            "[CV] C=1, gamma=0.1, kernel=sigmoid ..................................\n",
            "[CV]  C=1, gamma=0.1, kernel=sigmoid, score=(train=0.571, test=0.500), total=   0.0s\n",
            "[CV] C=1, gamma=0.1, kernel=sigmoid ..................................\n",
            "[CV]  C=1, gamma=0.1, kernel=sigmoid, score=(train=1.000, test=0.000), total=   0.0s\n",
            "[CV] C=1, gamma=0.01, kernel=linear ..................................\n",
            "[CV]  C=1, gamma=0.01, kernel=linear, score=(train=0.571, test=0.500), total=   0.0s\n",
            "[CV] C=1, gamma=0.01, kernel=linear ..................................\n",
            "[CV]  C=1, gamma=0.01, kernel=linear, score=(train=0.571, test=0.500), total=   0.0s\n",
            "[CV] C=1, gamma=0.01, kernel=linear ..................................\n",
            "[CV]  C=1, gamma=0.01, kernel=linear, score=(train=1.000, test=0.000), total=   0.0s\n",
            "[CV] C=1, gamma=0.01, kernel=rbf .....................................\n",
            "[CV]  C=1, gamma=0.01, kernel=rbf, score=(train=0.571, test=0.500), total=   0.0s\n",
            "[CV] C=1, gamma=0.01, kernel=rbf .....................................\n",
            "[CV]  C=1, gamma=0.01, kernel=rbf, score=(train=0.571, test=0.500), total=   0.0s\n",
            "[CV] C=1, gamma=0.01, kernel=rbf .....................................\n",
            "[CV]  C=1, gamma=0.01, kernel=rbf, score=(train=1.000, test=0.000), total=   0.0s\n",
            "[CV] C=1, gamma=0.01, kernel=poly ....................................\n",
            "[CV]  C=1, gamma=0.01, kernel=poly, score=(train=0.571, test=0.500), total=   0.0s\n",
            "[CV] C=1, gamma=0.01, kernel=poly ....................................\n",
            "[CV]  C=1, gamma=0.01, kernel=poly, score=(train=0.571, test=0.500), total=   0.0s\n",
            "[CV] C=1, gamma=0.01, kernel=poly ....................................\n",
            "[CV]  C=1, gamma=0.01, kernel=poly, score=(train=1.000, test=0.000), total=   0.0s\n",
            "[CV] C=1, gamma=0.01, kernel=sigmoid .................................\n",
            "[CV]  C=1, gamma=0.01, kernel=sigmoid, score=(train=0.571, test=0.500), total=   0.0s\n",
            "[CV] C=1, gamma=0.01, kernel=sigmoid .................................\n",
            "[CV]  C=1, gamma=0.01, kernel=sigmoid, score=(train=0.571, test=0.500), total=   0.0s\n",
            "[CV] C=1, gamma=0.01, kernel=sigmoid .................................\n",
            "[CV]  C=1, gamma=0.01, kernel=sigmoid, score=(train=1.000, test=0.000), total=   0.0s\n",
            "[CV] C=1, gamma=0.001, kernel=linear .................................\n",
            "[CV]  C=1, gamma=0.001, kernel=linear, score=(train=0.571, test=0.500), total=   0.0s\n",
            "[CV] C=1, gamma=0.001, kernel=linear .................................\n",
            "[CV]  C=1, gamma=0.001, kernel=linear, score=(train=0.571, test=0.500), total=   0.0s\n",
            "[CV] C=1, gamma=0.001, kernel=linear .................................\n",
            "[CV]  C=1, gamma=0.001, kernel=linear, score=(train=1.000, test=0.000), total=   0.0s\n",
            "[CV] C=1, gamma=0.001, kernel=rbf ....................................\n",
            "[CV]  C=1, gamma=0.001, kernel=rbf, score=(train=0.571, test=0.500), total=   0.0s\n",
            "[CV] C=1, gamma=0.001, kernel=rbf ....................................\n",
            "[CV]  C=1, gamma=0.001, kernel=rbf, score=(train=0.571, test=0.500), total=   0.0s\n",
            "[CV] C=1, gamma=0.001, kernel=rbf ....................................\n",
            "[CV]  C=1, gamma=0.001, kernel=rbf, score=(train=1.000, test=0.000), total=   0.0s\n",
            "[CV] C=1, gamma=0.001, kernel=poly ...................................\n",
            "[CV]  C=1, gamma=0.001, kernel=poly, score=(train=0.571, test=0.500), total=   0.0s\n",
            "[CV] C=1, gamma=0.001, kernel=poly ...................................\n",
            "[CV]  C=1, gamma=0.001, kernel=poly, score=(train=0.571, test=0.500), total=   0.0s\n",
            "[CV] C=1, gamma=0.001, kernel=poly ...................................\n",
            "[CV]  C=1, gamma=0.001, kernel=poly, score=(train=1.000, test=0.000), total=   0.0s\n",
            "[CV] C=1, gamma=0.001, kernel=sigmoid ................................\n",
            "[CV]  C=1, gamma=0.001, kernel=sigmoid, score=(train=0.571, test=0.500), total=   0.0s\n",
            "[CV] C=1, gamma=0.001, kernel=sigmoid ................................\n",
            "[CV]  C=1, gamma=0.001, kernel=sigmoid, score=(train=0.571, test=0.500), total=   0.0s\n",
            "[CV] C=1, gamma=0.001, kernel=sigmoid ................................\n",
            "[CV]  C=1, gamma=0.001, kernel=sigmoid, score=(train=1.000, test=0.000), total=   0.0s\n",
            "[CV] C=1, gamma=0.0001, kernel=linear ................................\n",
            "[CV]  C=1, gamma=0.0001, kernel=linear, score=(train=0.571, test=0.500), total=   0.0s\n",
            "[CV] C=1, gamma=0.0001, kernel=linear ................................\n",
            "[CV]  C=1, gamma=0.0001, kernel=linear, score=(train=0.571, test=0.500), total=   0.0s\n",
            "[CV] C=1, gamma=0.0001, kernel=linear ................................\n",
            "[CV]  C=1, gamma=0.0001, kernel=linear, score=(train=1.000, test=0.000), total=   0.0s\n",
            "[CV] C=1, gamma=0.0001, kernel=rbf ...................................\n",
            "[CV]  C=1, gamma=0.0001, kernel=rbf, score=(train=0.571, test=0.500), total=   0.0s\n",
            "[CV] C=1, gamma=0.0001, kernel=rbf ...................................\n",
            "[CV]  C=1, gamma=0.0001, kernel=rbf, score=(train=0.571, test=0.500), total=   0.0s\n",
            "[CV] C=1, gamma=0.0001, kernel=rbf ...................................\n",
            "[CV]  C=1, gamma=0.0001, kernel=rbf, score=(train=1.000, test=0.000), total=   0.0s\n",
            "[CV] C=1, gamma=0.0001, kernel=poly ..................................\n",
            "[CV]  C=1, gamma=0.0001, kernel=poly, score=(train=0.571, test=0.500), total=   0.0s\n",
            "[CV] C=1, gamma=0.0001, kernel=poly ..................................\n",
            "[CV]  C=1, gamma=0.0001, kernel=poly, score=(train=0.571, test=0.500), total=   0.0s\n",
            "[CV] C=1, gamma=0.0001, kernel=poly ..................................\n",
            "[CV]  C=1, gamma=0.0001, kernel=poly, score=(train=1.000, test=0.000), total=   0.0s\n",
            "[CV] C=1, gamma=0.0001, kernel=sigmoid ...............................\n",
            "[CV]  C=1, gamma=0.0001, kernel=sigmoid, score=(train=0.571, test=0.500), total=   0.0s\n",
            "[CV] C=1, gamma=0.0001, kernel=sigmoid ...............................\n",
            "[CV]  C=1, gamma=0.0001, kernel=sigmoid, score=(train=0.571, test=0.500), total=   0.0s\n",
            "[CV] C=1, gamma=0.0001, kernel=sigmoid ...............................\n",
            "[CV]  C=1, gamma=0.0001, kernel=sigmoid, score=(train=1.000, test=0.000), total=   0.0s\n",
            "[CV] C=10, gamma=1, kernel=linear ....................................\n",
            "[CV]  C=10, gamma=1, kernel=linear, score=(train=1.000, test=0.250), total=   0.0s\n",
            "[CV] C=10, gamma=1, kernel=linear ....................................\n",
            "[CV]  C=10, gamma=1, kernel=linear, score=(train=1.000, test=0.250), total=   0.0s\n",
            "[CV] C=10, gamma=1, kernel=linear ....................................\n",
            "[CV]  C=10, gamma=1, kernel=linear, score=(train=1.000, test=0.000), total=   0.0s\n",
            "[CV] C=10, gamma=1, kernel=rbf .......................................\n",
            "[CV]  C=10, gamma=1, kernel=rbf, score=(train=1.000, test=0.250), total=   0.0s\n",
            "[CV] C=10, gamma=1, kernel=rbf .......................................\n",
            "[CV]  C=10, gamma=1, kernel=rbf, score=(train=1.000, test=0.250), total=   0.0s\n",
            "[CV] C=10, gamma=1, kernel=rbf .......................................\n",
            "[CV]  C=10, gamma=1, kernel=rbf, score=(train=1.000, test=0.000), total=   0.0s\n",
            "[CV] C=10, gamma=1, kernel=poly ......................................\n",
            "[CV]  C=10, gamma=1, kernel=poly, score=(train=1.000, test=0.250), total=   0.0s\n",
            "[CV] C=10, gamma=1, kernel=poly ......................................\n",
            "[CV]  C=10, gamma=1, kernel=poly, score=(train=1.000, test=0.250), total=   0.0s\n",
            "[CV] C=10, gamma=1, kernel=poly ......................................\n",
            "[CV]  C=10, gamma=1, kernel=poly, score=(train=1.000, test=0.000), total=   0.0s\n",
            "[CV] C=10, gamma=1, kernel=sigmoid ...................................\n",
            "[CV]  C=10, gamma=1, kernel=sigmoid, score=(train=1.000, test=0.250), total=   0.0s\n",
            "[CV] C=10, gamma=1, kernel=sigmoid ...................................\n",
            "[CV]  C=10, gamma=1, kernel=sigmoid, score=(train=0.857, test=0.250), total=   0.0s\n",
            "[CV] C=10, gamma=1, kernel=sigmoid ...................................\n",
            "[CV]  C=10, gamma=1, kernel=sigmoid, score=(train=1.000, test=0.000), total=   0.0s\n",
            "[CV] C=10, gamma=0.1, kernel=linear ..................................\n",
            "[CV]  C=10, gamma=0.1, kernel=linear, score=(train=1.000, test=0.250), total=   0.0s\n",
            "[CV] C=10, gamma=0.1, kernel=linear ..................................\n",
            "[CV]  C=10, gamma=0.1, kernel=linear, score=(train=1.000, test=0.250), total=   0.0s\n",
            "[CV] C=10, gamma=0.1, kernel=linear ..................................\n",
            "[CV]  C=10, gamma=0.1, kernel=linear, score=(train=1.000, test=0.000), total=   0.0s\n",
            "[CV] C=10, gamma=0.1, kernel=rbf .....................................\n",
            "[CV]  C=10, gamma=0.1, kernel=rbf, score=(train=0.571, test=0.500), total=   0.0s\n",
            "[CV] C=10, gamma=0.1, kernel=rbf .....................................\n",
            "[CV]  C=10, gamma=0.1, kernel=rbf, score=(train=0.857, test=0.500), total=   0.0s\n",
            "[CV] C=10, gamma=0.1, kernel=rbf .....................................\n",
            "[CV]  C=10, gamma=0.1, kernel=rbf, score=(train=1.000, test=0.000), total=   0.0s\n",
            "[CV] C=10, gamma=0.1, kernel=poly ....................................\n",
            "[CV]  C=10, gamma=0.1, kernel=poly, score=(train=0.571, test=0.500), total=   0.0s\n",
            "[CV] C=10, gamma=0.1, kernel=poly ....................................\n",
            "[CV]  C=10, gamma=0.1, kernel=poly, score=(train=0.571, test=0.500), total=   0.0s\n",
            "[CV] C=10, gamma=0.1, kernel=poly ....................................\n",
            "[CV]  C=10, gamma=0.1, kernel=poly, score=(train=1.000, test=0.000), total=   0.0s\n",
            "[CV] C=10, gamma=0.1, kernel=sigmoid .................................\n",
            "[CV]  C=10, gamma=0.1, kernel=sigmoid, score=(train=0.571, test=0.500), total=   0.0s\n",
            "[CV] C=10, gamma=0.1, kernel=sigmoid .................................\n",
            "[CV]  C=10, gamma=0.1, kernel=sigmoid, score=(train=0.571, test=0.500), total=   0.0s\n",
            "[CV] C=10, gamma=0.1, kernel=sigmoid .................................\n",
            "[CV]  C=10, gamma=0.1, kernel=sigmoid, score=(train=1.000, test=0.000), total=   0.0s\n",
            "[CV] C=10, gamma=0.01, kernel=linear .................................\n",
            "[CV]  C=10, gamma=0.01, kernel=linear, score=(train=1.000, test=0.250), total=   0.0s\n",
            "[CV] C=10, gamma=0.01, kernel=linear .................................\n",
            "[CV]  C=10, gamma=0.01, kernel=linear, score=(train=1.000, test=0.250), total=   0.0s\n",
            "[CV] C=10, gamma=0.01, kernel=linear .................................\n",
            "[CV]  C=10, gamma=0.01, kernel=linear, score=(train=1.000, test=0.000), total=   0.0s\n",
            "[CV] C=10, gamma=0.01, kernel=rbf ....................................\n",
            "[CV]  C=10, gamma=0.01, kernel=rbf, score=(train=0.571, test=0.500), total=   0.0s\n",
            "[CV] C=10, gamma=0.01, kernel=rbf ....................................\n",
            "[CV]  C=10, gamma=0.01, kernel=rbf, score=(train=0.571, test=0.500), total=   0.0s\n",
            "[CV] C=10, gamma=0.01, kernel=rbf ....................................\n",
            "[CV]  C=10, gamma=0.01, kernel=rbf, score=(train=1.000, test=0.000), total=   0.0s\n",
            "[CV] C=10, gamma=0.01, kernel=poly ...................................\n",
            "[CV]  C=10, gamma=0.01, kernel=poly, score=(train=0.571, test=0.500), total=   0.0s\n",
            "[CV] C=10, gamma=0.01, kernel=poly ...................................\n",
            "[CV]  C=10, gamma=0.01, kernel=poly, score=(train=0.571, test=0.500), total=   0.0s\n",
            "[CV] C=10, gamma=0.01, kernel=poly ...................................\n",
            "[CV]  C=10, gamma=0.01, kernel=poly, score=(train=1.000, test=0.000), total=   0.0s\n",
            "[CV] C=10, gamma=0.01, kernel=sigmoid ................................\n",
            "[CV]  C=10, gamma=0.01, kernel=sigmoid, score=(train=0.571, test=0.500), total=   0.0s\n",
            "[CV] C=10, gamma=0.01, kernel=sigmoid ................................\n",
            "[CV]  C=10, gamma=0.01, kernel=sigmoid, score=(train=0.571, test=0.500), total=   0.0s\n",
            "[CV] C=10, gamma=0.01, kernel=sigmoid ................................\n",
            "[CV]  C=10, gamma=0.01, kernel=sigmoid, score=(train=1.000, test=0.000), total=   0.0s\n",
            "[CV] C=10, gamma=0.001, kernel=linear ................................\n",
            "[CV]  C=10, gamma=0.001, kernel=linear, score=(train=1.000, test=0.250), total=   0.0s\n",
            "[CV] C=10, gamma=0.001, kernel=linear ................................\n",
            "[CV]  C=10, gamma=0.001, kernel=linear, score=(train=1.000, test=0.250), total=   0.0s\n",
            "[CV] C=10, gamma=0.001, kernel=linear ................................\n",
            "[CV]  C=10, gamma=0.001, kernel=linear, score=(train=1.000, test=0.000), total=   0.0s\n",
            "[CV] C=10, gamma=0.001, kernel=rbf ...................................\n",
            "[CV]  C=10, gamma=0.001, kernel=rbf, score=(train=0.571, test=0.500), total=   0.0s\n",
            "[CV] C=10, gamma=0.001, kernel=rbf ...................................\n",
            "[CV]  C=10, gamma=0.001, kernel=rbf, score=(train=0.571, test=0.500), total=   0.0s\n",
            "[CV] C=10, gamma=0.001, kernel=rbf ...................................\n",
            "[CV]  C=10, gamma=0.001, kernel=rbf, score=(train=1.000, test=0.000), total=   0.0s\n",
            "[CV] C=10, gamma=0.001, kernel=poly ..................................\n",
            "[CV]  C=10, gamma=0.001, kernel=poly, score=(train=0.571, test=0.500), total=   0.0s\n",
            "[CV] C=10, gamma=0.001, kernel=poly ..................................\n",
            "[CV]  C=10, gamma=0.001, kernel=poly, score=(train=0.571, test=0.500), total=   0.0s\n",
            "[CV] C=10, gamma=0.001, kernel=poly ..................................\n",
            "[CV]  C=10, gamma=0.001, kernel=poly, score=(train=1.000, test=0.000), total=   0.0s\n",
            "[CV] C=10, gamma=0.001, kernel=sigmoid ...............................\n",
            "[CV]  C=10, gamma=0.001, kernel=sigmoid, score=(train=0.571, test=0.500), total=   0.0s\n",
            "[CV] C=10, gamma=0.001, kernel=sigmoid ...............................\n",
            "[CV]  C=10, gamma=0.001, kernel=sigmoid, score=(train=0.571, test=0.500), total=   0.0s\n",
            "[CV] C=10, gamma=0.001, kernel=sigmoid ...............................\n",
            "[CV]  C=10, gamma=0.001, kernel=sigmoid, score=(train=1.000, test=0.000), total=   0.0s\n",
            "[CV] C=10, gamma=0.0001, kernel=linear ...............................\n",
            "[CV]  C=10, gamma=0.0001, kernel=linear, score=(train=1.000, test=0.250), total=   0.0s\n",
            "[CV] C=10, gamma=0.0001, kernel=linear ...............................\n",
            "[CV]  C=10, gamma=0.0001, kernel=linear, score=(train=1.000, test=0.250), total=   0.0s\n",
            "[CV] C=10, gamma=0.0001, kernel=linear ...............................\n",
            "[CV]  C=10, gamma=0.0001, kernel=linear, score=(train=1.000, test=0.000), total=   0.0s\n",
            "[CV] C=10, gamma=0.0001, kernel=rbf ..................................\n",
            "[CV]  C=10, gamma=0.0001, kernel=rbf, score=(train=0.571, test=0.500), total=   0.0s\n",
            "[CV] C=10, gamma=0.0001, kernel=rbf ..................................\n",
            "[CV]  C=10, gamma=0.0001, kernel=rbf, score=(train=0.571, test=0.500), total=   0.0s\n",
            "[CV] C=10, gamma=0.0001, kernel=rbf ..................................\n",
            "[CV]  C=10, gamma=0.0001, kernel=rbf, score=(train=1.000, test=0.000), total=   0.0s\n",
            "[CV] C=10, gamma=0.0001, kernel=poly .................................\n",
            "[CV]  C=10, gamma=0.0001, kernel=poly, score=(train=0.571, test=0.500), total=   0.0s\n",
            "[CV] C=10, gamma=0.0001, kernel=poly .................................\n",
            "[CV]  C=10, gamma=0.0001, kernel=poly, score=(train=0.571, test=0.500), total=   0.0s\n",
            "[CV] C=10, gamma=0.0001, kernel=poly .................................\n",
            "[CV]  C=10, gamma=0.0001, kernel=poly, score=(train=1.000, test=0.000), total=   0.0s\n",
            "[CV] C=10, gamma=0.0001, kernel=sigmoid ..............................\n",
            "[CV]  C=10, gamma=0.0001, kernel=sigmoid, score=(train=0.571, test=0.500), total=   0.0s\n",
            "[CV] C=10, gamma=0.0001, kernel=sigmoid ..............................\n",
            "[CV]  C=10, gamma=0.0001, kernel=sigmoid, score=(train=0.571, test=0.500), total=   0.0s\n",
            "[CV] C=10, gamma=0.0001, kernel=sigmoid ..............................\n",
            "[CV]  C=10, gamma=0.0001, kernel=sigmoid, score=(train=1.000, test=0.000), total=   0.0s\n",
            "[CV] C=100, gamma=1, kernel=linear ...................................\n",
            "[CV]  C=100, gamma=1, kernel=linear, score=(train=1.000, test=0.250), total=   0.0s\n",
            "[CV] C=100, gamma=1, kernel=linear ...................................\n",
            "[CV]  C=100, gamma=1, kernel=linear, score=(train=1.000, test=0.250), total=   0.0s\n",
            "[CV] C=100, gamma=1, kernel=linear ...................................\n",
            "[CV]  C=100, gamma=1, kernel=linear, score=(train=1.000, test=0.000), total=   0.0s\n",
            "[CV] C=100, gamma=1, kernel=rbf ......................................\n",
            "[CV]  C=100, gamma=1, kernel=rbf, score=(train=1.000, test=0.250), total=   0.0s\n",
            "[CV] C=100, gamma=1, kernel=rbf ......................................\n",
            "[CV]  C=100, gamma=1, kernel=rbf, score=(train=1.000, test=0.250), total=   0.0s\n",
            "[CV] C=100, gamma=1, kernel=rbf ......................................\n",
            "[CV]  C=100, gamma=1, kernel=rbf, score=(train=1.000, test=0.000), total=   0.0s\n",
            "[CV] C=100, gamma=1, kernel=poly .....................................\n",
            "[CV]  C=100, gamma=1, kernel=poly, score=(train=1.000, test=0.250), total=   0.0s\n",
            "[CV] C=100, gamma=1, kernel=poly .....................................\n",
            "[CV]  C=100, gamma=1, kernel=poly, score=(train=1.000, test=0.250), total=   0.0s\n",
            "[CV] C=100, gamma=1, kernel=poly .....................................\n",
            "[CV]  C=100, gamma=1, kernel=poly, score=(train=1.000, test=0.000), total=   0.0s\n",
            "[CV] C=100, gamma=1, kernel=sigmoid ..................................\n",
            "[CV]  C=100, gamma=1, kernel=sigmoid, score=(train=1.000, test=0.250), total=   0.0s\n",
            "[CV] C=100, gamma=1, kernel=sigmoid ..................................\n",
            "[CV]  C=100, gamma=1, kernel=sigmoid, score=(train=1.000, test=0.250), total=   0.0s\n",
            "[CV] C=100, gamma=1, kernel=sigmoid ..................................\n",
            "[CV]  C=100, gamma=1, kernel=sigmoid, score=(train=1.000, test=0.000), total=   0.0s\n",
            "[CV] C=100, gamma=0.1, kernel=linear .................................\n",
            "[CV]  C=100, gamma=0.1, kernel=linear, score=(train=1.000, test=0.250), total=   0.0s\n",
            "[CV] C=100, gamma=0.1, kernel=linear .................................\n",
            "[CV]  C=100, gamma=0.1, kernel=linear, score=(train=1.000, test=0.250), total=   0.0s\n",
            "[CV] C=100, gamma=0.1, kernel=linear .................................\n",
            "[CV]  C=100, gamma=0.1, kernel=linear, score=(train=1.000, test=0.000), total=   0.0s\n",
            "[CV] C=100, gamma=0.1, kernel=rbf ....................................\n",
            "[CV]  C=100, gamma=0.1, kernel=rbf, score=(train=1.000, test=0.250), total=   0.0s\n",
            "[CV] C=100, gamma=0.1, kernel=rbf ....................................\n",
            "[CV]  C=100, gamma=0.1, kernel=rbf, score=(train=1.000, test=0.250), total=   0.0s\n",
            "[CV] C=100, gamma=0.1, kernel=rbf ....................................\n",
            "[CV]  C=100, gamma=0.1, kernel=rbf, score=(train=1.000, test=0.000), total=   0.0s\n",
            "[CV] C=100, gamma=0.1, kernel=poly ...................................\n",
            "[CV]  C=100, gamma=0.1, kernel=poly, score=(train=0.571, test=0.500), total=   0.0s\n",
            "[CV] C=100, gamma=0.1, kernel=poly ...................................\n",
            "[CV]  C=100, gamma=0.1, kernel=poly, score=(train=0.571, test=0.500), total=   0.0s\n",
            "[CV] C=100, gamma=0.1, kernel=poly ...................................\n",
            "[CV]  C=100, gamma=0.1, kernel=poly, score=(train=1.000, test=0.000), total=   0.0s\n",
            "[CV] C=100, gamma=0.1, kernel=sigmoid ................................\n",
            "[CV]  C=100, gamma=0.1, kernel=sigmoid, score=(train=1.000, test=0.250), total=   0.0s\n",
            "[CV] C=100, gamma=0.1, kernel=sigmoid ................................\n",
            "[CV]  C=100, gamma=0.1, kernel=sigmoid, score=(train=1.000, test=0.250), total=   0.0s\n",
            "[CV] C=100, gamma=0.1, kernel=sigmoid ................................\n",
            "[CV]  C=100, gamma=0.1, kernel=sigmoid, score=(train=1.000, test=0.000), total=   0.0s\n",
            "[CV] C=100, gamma=0.01, kernel=linear ................................\n",
            "[CV]  C=100, gamma=0.01, kernel=linear, score=(train=1.000, test=0.250), total=   0.0s\n",
            "[CV] C=100, gamma=0.01, kernel=linear ................................\n",
            "[CV]  C=100, gamma=0.01, kernel=linear, score=(train=1.000, test=0.250), total=   0.0s\n",
            "[CV] C=100, gamma=0.01, kernel=linear ................................\n",
            "[CV]  C=100, gamma=0.01, kernel=linear, score=(train=1.000, test=0.000), total=   0.0s\n",
            "[CV] C=100, gamma=0.01, kernel=rbf ...................................\n",
            "[CV]  C=100, gamma=0.01, kernel=rbf, score=(train=0.714, test=0.500), total=   0.0s\n",
            "[CV] C=100, gamma=0.01, kernel=rbf ...................................\n",
            "[CV]  C=100, gamma=0.01, kernel=rbf, score=(train=0.857, test=0.500), total=   0.0s\n",
            "[CV] C=100, gamma=0.01, kernel=rbf ...................................\n",
            "[CV]  C=100, gamma=0.01, kernel=rbf, score=(train=1.000, test=0.000), total=   0.0s\n",
            "[CV] C=100, gamma=0.01, kernel=poly ..................................\n",
            "[CV]  C=100, gamma=0.01, kernel=poly, score=(train=0.571, test=0.500), total=   0.0s\n",
            "[CV] C=100, gamma=0.01, kernel=poly ..................................\n",
            "[CV]  C=100, gamma=0.01, kernel=poly, score=(train=0.571, test=0.500), total=   0.0s\n",
            "[CV] C=100, gamma=0.01, kernel=poly ..................................\n",
            "[CV]  C=100, gamma=0.01, kernel=poly, score=(train=1.000, test=0.000), total=   0.0s\n",
            "[CV] C=100, gamma=0.01, kernel=sigmoid ...............................\n",
            "[CV]  C=100, gamma=0.01, kernel=sigmoid, score=(train=0.571, test=0.500), total=   0.0s\n",
            "[CV] C=100, gamma=0.01, kernel=sigmoid ...............................\n",
            "[CV]  C=100, gamma=0.01, kernel=sigmoid, score=(train=0.571, test=0.500), total=   0.0s\n",
            "[CV] C=100, gamma=0.01, kernel=sigmoid ...............................\n",
            "[CV]  C=100, gamma=0.01, kernel=sigmoid, score=(train=1.000, test=0.000), total=   0.0s\n",
            "[CV] C=100, gamma=0.001, kernel=linear ...............................\n",
            "[CV]  C=100, gamma=0.001, kernel=linear, score=(train=1.000, test=0.250), total=   0.0s\n",
            "[CV] C=100, gamma=0.001, kernel=linear ...............................\n",
            "[CV]  C=100, gamma=0.001, kernel=linear, score=(train=1.000, test=0.250), total=   0.0s\n",
            "[CV] C=100, gamma=0.001, kernel=linear ...............................\n",
            "[CV]  C=100, gamma=0.001, kernel=linear, score=(train=1.000, test=0.000), total=   0.0s\n",
            "[CV] C=100, gamma=0.001, kernel=rbf ..................................\n",
            "[CV]  C=100, gamma=0.001, kernel=rbf, score=(train=0.571, test=0.500), total=   0.0s\n",
            "[CV] C=100, gamma=0.001, kernel=rbf ..................................\n",
            "[CV]  C=100, gamma=0.001, kernel=rbf, score=(train=0.571, test=0.500), total=   0.0s\n",
            "[CV] C=100, gamma=0.001, kernel=rbf ..................................\n",
            "[CV]  C=100, gamma=0.001, kernel=rbf, score=(train=1.000, test=0.000), total=   0.0s\n",
            "[CV] C=100, gamma=0.001, kernel=poly .................................\n",
            "[CV]  C=100, gamma=0.001, kernel=poly, score=(train=0.571, test=0.500), total=   0.0s\n",
            "[CV] C=100, gamma=0.001, kernel=poly .................................\n",
            "[CV]  C=100, gamma=0.001, kernel=poly, score=(train=0.571, test=0.500), total=   0.0s\n",
            "[CV] C=100, gamma=0.001, kernel=poly .................................\n",
            "[CV]  C=100, gamma=0.001, kernel=poly, score=(train=1.000, test=0.000), total=   0.0s\n",
            "[CV] C=100, gamma=0.001, kernel=sigmoid ..............................\n",
            "[CV]  C=100, gamma=0.001, kernel=sigmoid, score=(train=0.571, test=0.500), total=   0.0s\n",
            "[CV] C=100, gamma=0.001, kernel=sigmoid ..............................\n",
            "[CV]  C=100, gamma=0.001, kernel=sigmoid, score=(train=0.571, test=0.500), total=   0.0s\n",
            "[CV] C=100, gamma=0.001, kernel=sigmoid ..............................\n",
            "[CV]  C=100, gamma=0.001, kernel=sigmoid, score=(train=1.000, test=0.000), total=   0.0s\n",
            "[CV] C=100, gamma=0.0001, kernel=linear ..............................\n",
            "[CV]  C=100, gamma=0.0001, kernel=linear, score=(train=1.000, test=0.250), total=   0.0s\n",
            "[CV] C=100, gamma=0.0001, kernel=linear ..............................\n",
            "[CV]  C=100, gamma=0.0001, kernel=linear, score=(train=1.000, test=0.250), total=   0.0s\n",
            "[CV] C=100, gamma=0.0001, kernel=linear ..............................\n",
            "[CV]  C=100, gamma=0.0001, kernel=linear, score=(train=1.000, test=0.000), total=   0.0s\n",
            "[CV] C=100, gamma=0.0001, kernel=rbf .................................\n",
            "[CV]  C=100, gamma=0.0001, kernel=rbf, score=(train=0.571, test=0.500), total=   0.0s\n",
            "[CV] C=100, gamma=0.0001, kernel=rbf .................................\n",
            "[CV]  C=100, gamma=0.0001, kernel=rbf, score=(train=0.571, test=0.500), total=   0.0s\n",
            "[CV] C=100, gamma=0.0001, kernel=rbf .................................\n",
            "[CV]  C=100, gamma=0.0001, kernel=rbf, score=(train=1.000, test=0.000), total=   0.0s\n",
            "[CV] C=100, gamma=0.0001, kernel=poly ................................\n",
            "[CV]  C=100, gamma=0.0001, kernel=poly, score=(train=0.571, test=0.500), total=   0.0s\n",
            "[CV] C=100, gamma=0.0001, kernel=poly ................................\n",
            "[CV]  C=100, gamma=0.0001, kernel=poly, score=(train=0.571, test=0.500), total=   0.0s\n",
            "[CV] C=100, gamma=0.0001, kernel=poly ................................\n",
            "[CV]  C=100, gamma=0.0001, kernel=poly, score=(train=1.000, test=0.000), total=   0.0s\n",
            "[CV] C=100, gamma=0.0001, kernel=sigmoid .............................\n",
            "[CV]  C=100, gamma=0.0001, kernel=sigmoid, score=(train=0.571, test=0.500), total=   0.0s\n",
            "[CV] C=100, gamma=0.0001, kernel=sigmoid .............................\n",
            "[CV]  C=100, gamma=0.0001, kernel=sigmoid, score=(train=0.571, test=0.500), total=   0.0s\n",
            "[CV] C=100, gamma=0.0001, kernel=sigmoid .............................\n",
            "[CV]  C=100, gamma=0.0001, kernel=sigmoid, score=(train=1.000, test=0.000), total=   0.0s\n",
            "[CV] C=1000, gamma=1, kernel=linear ..................................\n",
            "[CV]  C=1000, gamma=1, kernel=linear, score=(train=1.000, test=0.250), total=   0.0s\n",
            "[CV] C=1000, gamma=1, kernel=linear ..................................\n",
            "[CV]  C=1000, gamma=1, kernel=linear, score=(train=1.000, test=0.250), total=   0.0s\n",
            "[CV] C=1000, gamma=1, kernel=linear ..................................\n",
            "[CV]  C=1000, gamma=1, kernel=linear, score=(train=1.000, test=0.000), total=   0.0s\n",
            "[CV] C=1000, gamma=1, kernel=rbf .....................................\n",
            "[CV]  C=1000, gamma=1, kernel=rbf, score=(train=1.000, test=0.250), total=   0.0s\n",
            "[CV] C=1000, gamma=1, kernel=rbf .....................................\n",
            "[CV]  C=1000, gamma=1, kernel=rbf, score=(train=1.000, test=0.250), total=   0.0s\n",
            "[CV] C=1000, gamma=1, kernel=rbf .....................................\n",
            "[CV]  C=1000, gamma=1, kernel=rbf, score=(train=1.000, test=0.000), total=   0.0s\n",
            "[CV] C=1000, gamma=1, kernel=poly ....................................\n",
            "[CV]  C=1000, gamma=1, kernel=poly, score=(train=1.000, test=0.250), total=   0.0s\n",
            "[CV] C=1000, gamma=1, kernel=poly ....................................\n",
            "[CV]  C=1000, gamma=1, kernel=poly, score=(train=1.000, test=0.250), total=   0.0s\n",
            "[CV] C=1000, gamma=1, kernel=poly ....................................\n",
            "[CV]  C=1000, gamma=1, kernel=poly, score=(train=1.000, test=0.000), total=   0.0s\n",
            "[CV] C=1000, gamma=1, kernel=sigmoid .................................\n",
            "[CV]  C=1000, gamma=1, kernel=sigmoid, score=(train=1.000, test=0.250), total=   0.0s\n",
            "[CV] C=1000, gamma=1, kernel=sigmoid .................................\n",
            "[CV]  C=1000, gamma=1, kernel=sigmoid, score=(train=1.000, test=0.250), total=   0.0s\n",
            "[CV] C=1000, gamma=1, kernel=sigmoid .................................\n",
            "[CV]  C=1000, gamma=1, kernel=sigmoid, score=(train=1.000, test=0.000), total=   0.0s\n",
            "[CV] C=1000, gamma=0.1, kernel=linear ................................\n",
            "[CV]  C=1000, gamma=0.1, kernel=linear, score=(train=1.000, test=0.250), total=   0.0s\n",
            "[CV] C=1000, gamma=0.1, kernel=linear ................................\n",
            "[CV]  C=1000, gamma=0.1, kernel=linear, score=(train=1.000, test=0.250), total=   0.0s\n",
            "[CV] C=1000, gamma=0.1, kernel=linear ................................\n",
            "[CV]  C=1000, gamma=0.1, kernel=linear, score=(train=1.000, test=0.000), total=   0.0s\n",
            "[CV] C=1000, gamma=0.1, kernel=rbf ...................................\n",
            "[CV]  C=1000, gamma=0.1, kernel=rbf, score=(train=1.000, test=0.250), total=   0.0s\n",
            "[CV] C=1000, gamma=0.1, kernel=rbf ...................................\n",
            "[CV]  C=1000, gamma=0.1, kernel=rbf, score=(train=1.000, test=0.250), total=   0.0s\n",
            "[CV] C=1000, gamma=0.1, kernel=rbf ...................................\n",
            "[CV]  C=1000, gamma=0.1, kernel=rbf, score=(train=1.000, test=0.000), total=   0.0s\n",
            "[CV] C=1000, gamma=0.1, kernel=poly ..................................\n",
            "[CV]  C=1000, gamma=0.1, kernel=poly, score=(train=0.857, test=0.500), total=   0.0s\n",
            "[CV] C=1000, gamma=0.1, kernel=poly ..................................\n",
            "[CV]  C=1000, gamma=0.1, kernel=poly, score=(train=0.857, test=0.500), total=   0.0s\n",
            "[CV] C=1000, gamma=0.1, kernel=poly ..................................\n",
            "[CV]  C=1000, gamma=0.1, kernel=poly, score=(train=1.000, test=0.000), total=   0.0s\n",
            "[CV] C=1000, gamma=0.1, kernel=sigmoid ...............................\n",
            "[CV]  C=1000, gamma=0.1, kernel=sigmoid, score=(train=1.000, test=0.250), total=   0.0s\n",
            "[CV] C=1000, gamma=0.1, kernel=sigmoid ...............................\n",
            "[CV]  C=1000, gamma=0.1, kernel=sigmoid, score=(train=1.000, test=0.250), total=   0.0s\n",
            "[CV] C=1000, gamma=0.1, kernel=sigmoid ...............................\n",
            "[CV]  C=1000, gamma=0.1, kernel=sigmoid, score=(train=1.000, test=0.000), total=   0.0s\n",
            "[CV] C=1000, gamma=0.01, kernel=linear ...............................\n",
            "[CV]  C=1000, gamma=0.01, kernel=linear, score=(train=1.000, test=0.250), total=   0.0s\n",
            "[CV] C=1000, gamma=0.01, kernel=linear ...............................\n",
            "[CV]  C=1000, gamma=0.01, kernel=linear, score=(train=1.000, test=0.250), total=   0.0s\n",
            "[CV] C=1000, gamma=0.01, kernel=linear ...............................\n",
            "[CV]  C=1000, gamma=0.01, kernel=linear, score=(train=1.000, test=0.000), total=   0.0s\n",
            "[CV] C=1000, gamma=0.01, kernel=rbf ..................................\n",
            "[CV]  C=1000, gamma=0.01, kernel=rbf, score=(train=1.000, test=0.250), total=   0.0s\n",
            "[CV] C=1000, gamma=0.01, kernel=rbf ..................................\n",
            "[CV]  C=1000, gamma=0.01, kernel=rbf, score=(train=1.000, test=0.250), total=   0.0s\n",
            "[CV] C=1000, gamma=0.01, kernel=rbf ..................................\n",
            "[CV]  C=1000, gamma=0.01, kernel=rbf, score=(train=1.000, test=0.000), total=   0.0s\n",
            "[CV] C=1000, gamma=0.01, kernel=poly .................................\n",
            "[CV]  C=1000, gamma=0.01, kernel=poly, score=(train=0.571, test=0.500), total=   0.0s\n",
            "[CV] C=1000, gamma=0.01, kernel=poly .................................\n",
            "[CV]  C=1000, gamma=0.01, kernel=poly, score=(train=0.571, test=0.500), total=   0.0s\n",
            "[CV] C=1000, gamma=0.01, kernel=poly .................................\n",
            "[CV]  C=1000, gamma=0.01, kernel=poly, score=(train=1.000, test=0.000), total=   0.0s\n",
            "[CV] C=1000, gamma=0.01, kernel=sigmoid ..............................\n",
            "[CV]  C=1000, gamma=0.01, kernel=sigmoid, score=(train=1.000, test=0.250), total=   0.0s\n",
            "[CV] C=1000, gamma=0.01, kernel=sigmoid ..............................\n",
            "[CV]  C=1000, gamma=0.01, kernel=sigmoid, score=(train=1.000, test=0.250), total=   0.0s\n",
            "[CV] C=1000, gamma=0.01, kernel=sigmoid ..............................\n",
            "[CV]  C=1000, gamma=0.01, kernel=sigmoid, score=(train=1.000, test=0.000), total=   0.0s\n",
            "[CV] C=1000, gamma=0.001, kernel=linear ..............................\n",
            "[CV]  C=1000, gamma=0.001, kernel=linear, score=(train=1.000, test=0.250), total=   0.0s\n",
            "[CV] C=1000, gamma=0.001, kernel=linear ..............................\n",
            "[CV]  C=1000, gamma=0.001, kernel=linear, score=(train=1.000, test=0.250), total=   0.0s\n",
            "[CV] C=1000, gamma=0.001, kernel=linear ..............................\n",
            "[CV]  C=1000, gamma=0.001, kernel=linear, score=(train=1.000, test=0.000), total=   0.0s\n",
            "[CV] C=1000, gamma=0.001, kernel=rbf .................................\n",
            "[CV]  C=1000, gamma=0.001, kernel=rbf, score=(train=0.714, test=0.500), total=   0.0s\n",
            "[CV] C=1000, gamma=0.001, kernel=rbf .................................\n",
            "[CV]  C=1000, gamma=0.001, kernel=rbf, score=(train=0.857, test=0.500), total=   0.0s\n",
            "[CV] C=1000, gamma=0.001, kernel=rbf .................................\n",
            "[CV]  C=1000, gamma=0.001, kernel=rbf, score=(train=1.000, test=0.000), total=   0.0s\n",
            "[CV] C=1000, gamma=0.001, kernel=poly ................................\n",
            "[CV]  C=1000, gamma=0.001, kernel=poly, score=(train=0.571, test=0.500), total=   0.0s\n",
            "[CV] C=1000, gamma=0.001, kernel=poly ................................\n",
            "[CV]  C=1000, gamma=0.001, kernel=poly, score=(train=0.571, test=0.500), total=   0.0s\n",
            "[CV] C=1000, gamma=0.001, kernel=poly ................................\n",
            "[CV]  C=1000, gamma=0.001, kernel=poly, score=(train=1.000, test=0.000), total=   0.0s\n",
            "[CV] C=1000, gamma=0.001, kernel=sigmoid .............................\n",
            "[CV]  C=1000, gamma=0.001, kernel=sigmoid, score=(train=0.571, test=0.500), total=   0.0s\n",
            "[CV] C=1000, gamma=0.001, kernel=sigmoid .............................\n",
            "[CV]  C=1000, gamma=0.001, kernel=sigmoid, score=(train=0.571, test=0.500), total=   0.0s\n",
            "[CV] C=1000, gamma=0.001, kernel=sigmoid .............................\n",
            "[CV]  C=1000, gamma=0.001, kernel=sigmoid, score=(train=1.000, test=0.000), total=   0.0s\n",
            "[CV] C=1000, gamma=0.0001, kernel=linear .............................\n",
            "[CV]  C=1000, gamma=0.0001, kernel=linear, score=(train=1.000, test=0.250), total=   0.0s\n",
            "[CV] C=1000, gamma=0.0001, kernel=linear .............................\n",
            "[CV]  C=1000, gamma=0.0001, kernel=linear, score=(train=1.000, test=0.250), total=   0.0s\n",
            "[CV] C=1000, gamma=0.0001, kernel=linear .............................\n",
            "[CV]  C=1000, gamma=0.0001, kernel=linear, score=(train=1.000, test=0.000), total=   0.0s\n",
            "[CV] C=1000, gamma=0.0001, kernel=rbf ................................\n",
            "[CV]  C=1000, gamma=0.0001, kernel=rbf, score=(train=0.571, test=0.500), total=   0.0s\n",
            "[CV] C=1000, gamma=0.0001, kernel=rbf ................................\n",
            "[CV]  C=1000, gamma=0.0001, kernel=rbf, score=(train=0.571, test=0.500), total=   0.0s\n",
            "[CV] C=1000, gamma=0.0001, kernel=rbf ................................\n",
            "[CV]  C=1000, gamma=0.0001, kernel=rbf, score=(train=1.000, test=0.000), total=   0.0s\n",
            "[CV] C=1000, gamma=0.0001, kernel=poly ...............................\n",
            "[CV]  C=1000, gamma=0.0001, kernel=poly, score=(train=0.571, test=0.500), total=   0.0s\n",
            "[CV] C=1000, gamma=0.0001, kernel=poly ...............................\n",
            "[CV]  C=1000, gamma=0.0001, kernel=poly, score=(train=0.571, test=0.500), total=   0.0s\n",
            "[CV] C=1000, gamma=0.0001, kernel=poly ...............................\n",
            "[CV]  C=1000, gamma=0.0001, kernel=poly, score=(train=1.000, test=0.000), total=   0.0s\n",
            "[CV] C=1000, gamma=0.0001, kernel=sigmoid ............................\n",
            "[CV]  C=1000, gamma=0.0001, kernel=sigmoid, score=(train=0.571, test=0.500), total=   0.0s\n",
            "[CV] C=1000, gamma=0.0001, kernel=sigmoid ............................\n",
            "[CV]  C=1000, gamma=0.0001, kernel=sigmoid, score=(train=0.571, test=0.500), total=   0.0s\n",
            "[CV] C=1000, gamma=0.0001, kernel=sigmoid ............................\n",
            "[CV]  C=1000, gamma=0.0001, kernel=sigmoid, score=(train=1.000, test=0.000), total=   0.0s\n"
          ],
          "name": "stdout"
        },
        {
          "output_type": "stream",
          "text": [
            "[Parallel(n_jobs=1)]: Done 300 out of 300 | elapsed:    1.0s finished\n"
          ],
          "name": "stderr"
        },
        {
          "output_type": "execute_result",
          "data": {
            "text/plain": [
              "{'C': 0.1, 'gamma': 1, 'kernel': 'linear'}"
            ]
          },
          "metadata": {
            "tags": []
          },
          "execution_count": 21
        }
      ]
    },
    {
      "cell_type": "markdown",
      "metadata": {
        "id": "NjlOkFcPm9_8"
      },
      "source": [
        "#The best model\n"
      ]
    },
    {
      "cell_type": "code",
      "metadata": {
        "id": "NNv_Jc9-opmT",
        "colab": {
          "base_uri": "https://localhost:8080/"
        },
        "outputId": "118b60b8-45de-47e3-e0fe-7168e9467390"
      },
      "source": [
        "classifier = SVC(C=0.1, gamma=1, kernel='linear')\n",
        "classifier.fit(x_train, y_train)\n",
        "pred=classifier.predict(x_test)\n",
        "accuracy_score(y_test, pred)"
      ],
      "execution_count": null,
      "outputs": [
        {
          "output_type": "execute_result",
          "data": {
            "text/plain": [
              "0.6285714285714286"
            ]
          },
          "metadata": {
            "tags": []
          },
          "execution_count": 22
        }
      ]
    },
    {
      "cell_type": "markdown",
      "metadata": {
        "id": "LA36Xd_BbTWU"
      },
      "source": [
        "**NUMERICAL ANALYSIS**"
      ]
    },
    {
      "cell_type": "code",
      "metadata": {
        "colab": {
          "base_uri": "https://localhost:8080/",
          "height": 281
        },
        "id": "8hI1-a6xYZxL",
        "outputId": "b21902a8-1756-4985-a5a3-a8b084d6ce19"
      },
      "source": [
        "tsa=pd.DataFrame({'Date':all_dat.publish_date, 'Change':all_dat.Change})\n",
        "tsa['Date']=pd.to_datetime(tsa['Date'], format='%Y-%m-%d') \n",
        "plt.figure(figsize=(10, 4))\n",
        "plt.plot(tsa.Change)\n",
        "plt.title('All time fluctuations')\n",
        "plt.grid(True)\n",
        "plt.show()"
      ],
      "execution_count": null,
      "outputs": [
        {
          "output_type": "display_data",
          "data": {
            "image/png": "[encoded data removed]",
            "text/plain": [
              "<Figure size 720x288 with 1 Axes>"
            ]
          },
          "metadata": {
            "tags": [],
            "needs_background": "light"
          }
        }
      ]
    },
    {
      "cell_type": "code",
      "metadata": {
        "id": "M-D0XdrHoVyi",
        "colab": {
          "base_uri": "https://localhost:8080/",
          "height": 1000
        },
        "outputId": "e515580d-22bd-4cd8-a010-f2f4a6ffe314"
      },
      "source": [
        "for i in range(2000,2011):\n",
        "  a4_dims = (12, 3)\n",
        "  fig, ax = plt.subplots(figsize=a4_dims)\n",
        "  sns.lineplot(x=\"Date\", y=\"Change\",\n",
        "              data=tsa[tsa[\"Date\"].map(lambda x : x.year == i)])"
      ],
      "execution_count": null,
      "outputs": [
        {
          "output_type": "display_data",
          "data": {
            "image/png": "[encoded data removed]",
            "text/plain": [
              "<Figure size 864x216 with 1 Axes>"
            ]
          },
          "metadata": {
            "tags": [],
            "needs_background": "light"
          }
        },
        {
          "output_type": "display_data",
          "data": {
            "image/png": "[encoded data removed]",
            "text/plain": [
              "<Figure size 864x216 with 1 Axes>"
            ]
          },
          "metadata": {
            "tags": [],
            "needs_background": "light"
          }
        },
        {
          "output_type": "display_data",
          "data": {
            "image/png": "[encoded data removed]",
            "text/plain": [
              "<Figure size 864x216 with 1 Axes>"
            ]
          },
          "metadata": {
            "tags": [],
            "needs_background": "light"
          }
        },
        {
          "output_type": "display_data",
          "data": {
            "image/png": "[encoded data removed]",
            "text/plain": [
              "<Figure size 864x216 with 1 Axes>"
            ]
          },
          "metadata": {
            "tags": [],
            "needs_background": "light"
          }
        },
        {
          "output_type": "display_data",
          "data": {
            "image/png": "[encoded data removed]",
            "text/plain": [
              "<Figure size 864x216 with 1 Axes>"
            ]
          },
          "metadata": {
            "tags": [],
            "needs_background": "light"
          }
        },
        {
          "output_type": "display_data",
          "data": {
            "image/png": "[encoded data removed]",
            "text/plain": [
              "<Figure size 864x216 with 1 Axes>"
            ]
          },
          "metadata": {
            "tags": [],
            "needs_background": "light"
          }
        },
        {
          "output_type": "display_data",
          "data": {
            "image/png": "[encoded data removed]",
            "text/plain": [
              "<Figure size 864x216 with 1 Axes>"
            ]
          },
          "metadata": {
            "tags": [],
            "needs_background": "light"
          }
        },
        {
          "output_type": "display_data",
          "data": {
            "image/png": "[encoded data removed]",
            "text/plain": [
              "<Figure size 864x216 with 1 Axes>"
            ]
          },
          "metadata": {
            "tags": [],
            "needs_background": "light"
          }
        },
        {
          "output_type": "display_data",
          "data": {
            "image/png": "[encoded data removed]",
            "text/plain": [
              "<Figure size 864x216 with 1 Axes>"
            ]
          },
          "metadata": {
            "tags": [],
            "needs_background": "light"
          }
        },
        {
          "output_type": "display_data",
          "data": {
            "image/png": "[encoded data removed]",
            "text/plain": [
              "<Figure size 864x216 with 1 Axes>"
            ]
          },
          "metadata": {
            "tags": [],
            "needs_background": "light"
          }
        },
        {
          "output_type": "display_data",
          "data": {
            "image/png": "[encoded data removed]",
            "text/plain": [
              "<Figure size 864x216 with 1 Axes>"
            ]
          },
          "metadata": {
            "tags": [],
            "needs_background": "light"
          }
        }
      ]
    },
    {
      "cell_type": "code",
      "metadata": {
        "id": "fvIGSh7veaUK"
      },
      "source": [
        "x=tsa.iloc[:110,:]\n",
        "y=tsa.iloc[110:116,:]"
      ],
      "execution_count": null,
      "outputs": []
    },
    {
      "cell_type": "code",
      "metadata": {
        "id": "T9YPaTNtjY-_"
      },
      "source": [
        "model1=ARIMA(x['Change'],order=(0,0,8))\n",
        "model1=model1.fit()"
      ],
      "execution_count": null,
      "outputs": []
    },
    {
      "cell_type": "code",
      "metadata": {
        "colab": {
          "base_uri": "https://localhost:8080/",
          "height": 307
        },
        "id": "c6I5bhd9fFiQ",
        "outputId": "ca911f36-a77d-400a-fd59-97de3f264a6e"
      },
      "source": [
        "start=len(x)\n",
        "end=len(x)+len(y)-1\n",
        "pred=model1.predict(start=start,end=end,typ='levels').rename('ARIMA Predictions')\n",
        "pred.plot(legend=True)\n",
        "y['Change'].plot(legend=True)"
      ],
      "execution_count": null,
      "outputs": [
        {
          "output_type": "execute_result",
          "data": {
            "text/plain": [
              "<matplotlib.axes._subplots.AxesSubplot at 0x7ff985a0a5c0>"
            ]
          },
          "metadata": {
            "tags": []
          },
          "execution_count": 110
        },
        {
          "output_type": "display_data",
          "data": {
            "image/png": "[encoded data removed]",
            "text/plain": [
              "<Figure size 432x288 with 1 Axes>"
            ]
          },
          "metadata": {
            "tags": [],
            "needs_background": "light"
          }
        }
      ]
    }
  ]
}